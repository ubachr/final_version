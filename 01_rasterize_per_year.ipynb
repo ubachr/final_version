{
 "cells": [
  {
   "cell_type": "code",
   "execution_count": 6,
   "metadata": {},
   "outputs": [],
   "source": [
    "from src import utils"
   ]
  },
  {
   "cell_type": "code",
   "execution_count": null,
   "metadata": {},
   "outputs": [],
   "source": [
    "from src import utils\n",
    "import importlib\n",
    "importlib.reload(utils)\n",
    "#from src.utils import *\n",
    "\n",
    "print(dir(utils))\n",
    "print(utils.zip_files_without_structure)"
   ]
  },
  {
   "cell_type": "markdown",
   "metadata": {},
   "source": [
    "0. Load EFFIS data"
   ]
  },
  {
   "cell_type": "code",
   "execution_count": 9,
   "metadata": {},
   "outputs": [],
   "source": [
    "# Path to data folders\n",
    "project_f = r'L:\\f02_data\\wildfires\\spatial_data'\n",
    "\n",
    "# Create output folder structure\n",
    "outfolder =  os.path.join(project_f, 'output')\n",
    "os.makedirs(outfolder, exist_ok=True)\n",
    "\n",
    "outFIREID_folder =  os.path.join(project_f, 'output', 'FIRE_ID')\n",
    "os.makedirs(outFIREID_folder, exist_ok=True)\n",
    "\n",
    "outFIREYEARDOY_folder =  os.path.join(project_f, 'output', 'FIRE_YEARDOY')\n",
    "os.makedirs(outFIREYEARDOY_folder, exist_ok=True)"
   ]
  },
  {
   "cell_type": "code",
   "execution_count": 11,
   "metadata": {},
   "outputs": [
    {
     "name": "stdout",
     "output_type": "stream",
     "text": [
      "New CRS: EPSG:3035\n"
     ]
    }
   ],
   "source": [
    "# load wildfires data\n",
    "effis_path =  os.path.join(project_f, 'input', 'effis_rawdata_20240402', 'modis.ba.poly.shp')\n",
    "effis = gpd.read_file(effis_path)\n",
    "\n",
    "# read effis id as an integer\n",
    "effis['id'] = effis['id'].astype(int)\n",
    "\n",
    "# Convert the column containing dates to datetime format\n",
    "effis['date'] = pd.to_datetime(effis['FIREDATE'])\n",
    "\n",
    "# Change the CRS to EPSG:3035\n",
    "effis = effis.to_crs(epsg=3035)\n",
    "\n",
    "# Verify the new CRS\n",
    "print(\"New CRS:\", effis.crs)"
   ]
  },
  {
   "cell_type": "code",
   "execution_count": null,
   "metadata": {},
   "outputs": [],
   "source": [
    "effis.head()"
   ]
  },
  {
   "cell_type": "code",
   "execution_count": null,
   "metadata": {},
   "outputs": [],
   "source": [
    "# create a lighter subset with target columns\n",
    "effis_sel = effis[['id', 'COUNTRY',\n",
    " 'FIREDATE','Year',\n",
    " 'Month','date','AREA_HA','geometry']]"
   ]
  },
  {
   "cell_type": "code",
   "execution_count": null,
   "metadata": {},
   "outputs": [],
   "source": [
    "#create additional fields to include DOY\n",
    "effis_sel['doy'] = effis_sel['date'].dt.dayofyear\n",
    "year2dig = (effis_sel.Year.astype(str).str[-2:])\n",
    "year000 = year2dig+str('000')\n",
    "effis_sel['yeardoy'] =year000.astype(int)+ effis_sel['doy'] \n",
    "effis_sel.tail()"
   ]
  },
  {
   "cell_type": "markdown",
   "metadata": {},
   "source": [
    "1. Define reference raster to copy parameters"
   ]
  },
  {
   "cell_type": "code",
   "execution_count": null,
   "metadata": {},
   "outputs": [],
   "source": [
    "# Reference raster\n",
    "refrast_path = r'M:\\f01_dims\\ADMbndEEA39v2021\\f02_upload_to_jedi\\Adm_EEA38_NUTS2021v2022.tif'\n",
    "\n",
    "# Open the raster data and taking extent and resolution parameters\n",
    "refraster = rasterio.open(refrast_path)\n",
    "raster_width = refraster.width\n",
    "raster_height = refraster.height\n",
    "minx = refraster.bounds.left\n",
    "maxy = refraster.bounds.top\n",
    "resolution = 100\n",
    "\n",
    "# create list for analysed years\n",
    "yr_ls = effis_sel.Year.unique().tolist()"
   ]
  },
  {
   "cell_type": "markdown",
   "metadata": {},
   "source": [
    "2. Rasterize FIREID for each year"
   ]
  },
  {
   "cell_type": "code",
   "execution_count": null,
   "metadata": {},
   "outputs": [],
   "source": [
    "# Loop through years\n",
    "for yr in yr_ls:    \n",
    "    effis_yr = effis_sel.query(f'Year == {yr}')\n",
    "    print(f'year {yr} - nr of fires {effis_yr.id.max()}')\n",
    "    \n",
    "    # Start creating one raster per each year using the FIREID\n",
    "    outfilename = f'FIREID_{yr}.tif'\n",
    "    outfile = os.path.join(outFIREID_folder, outfilename) \n",
    "    if not os.path.exists(outfile):\n",
    "        rasterize_vector_to_raster(\n",
    "        effis_yr, \n",
    "        'id',\n",
    "        outfile, \n",
    "        raster_width, \n",
    "        raster_height, \n",
    "        minx, \n",
    "        maxy, \n",
    "        resolution=resolution, \n",
    "        raster_crs='EPSG:3035', \n",
    "        chunk_size=1000, \n",
    "        compression='lzw'\n",
    "    )"
   ]
  },
  {
   "cell_type": "code",
   "execution_count": null,
   "metadata": {},
   "outputs": [],
   "source": [
    "from src.utils import *\n",
    "from src import utils\n",
    "\n",
    "# zip folder content and save in the same folder\n",
    "folder_to_zip = outFIREID_folder\n",
    "output_zip_file = os.path.join(outFIREID_folder, 'FIREID_0023.zip')\n",
    "\n",
    "utils.zip_files_without_structure(folder_to_zip, output_zip_file)"
   ]
  },
  {
   "cell_type": "code",
   "execution_count": null,
   "metadata": {},
   "outputs": [],
   "source": [
    "print(os.path.join(project_f, 'output', 'FIRE_ID', 'FIREID_0023.zip'))"
   ]
  },
  {
   "cell_type": "markdown",
   "metadata": {},
   "source": [
    "#### Create LUT"
   ]
  },
  {
   "cell_type": "code",
   "execution_count": 13,
   "metadata": {},
   "outputs": [],
   "source": [
    "effis23 = effis.query('Year==2023')"
   ]
  },
  {
   "cell_type": "code",
   "execution_count": 15,
   "metadata": {},
   "outputs": [
    {
     "data": {
      "text/plain": [
       "<bound method IndexOpsMixin.tolist of Index(['id', 'FIREDATE', 'LASTUPDATE', 'COUNTRY', 'PROVINCE', 'COMMUNE',\n",
       "       'AREA_HA', 'BROADLEA', 'CONIFER', 'MIXED', 'SCLEROPH', 'TRANSIT',\n",
       "       'OTHERNATLC', 'AGRIAREAS', 'ARTIFSURF', 'OTHERLC', 'PERCNA2K', 'CLASS',\n",
       "       'Year', 'Month', 'geometry', 'date'],\n",
       "      dtype='object')>"
      ]
     },
     "execution_count": 15,
     "metadata": {},
     "output_type": "execute_result"
    }
   ],
   "source": [
    "effis23.columns.tolist"
   ]
  },
  {
   "cell_type": "code",
   "execution_count": 16,
   "metadata": {},
   "outputs": [],
   "source": [
    "effis23=effis23[['id', 'FIREDATE', 'LASTUPDATE', 'COUNTRY', 'PROVINCE', 'COMMUNE',\n",
    "       'AREA_HA', 'Year', 'Month', 'geometry', 'date']]"
   ]
  },
  {
   "cell_type": "code",
   "execution_count": null,
   "metadata": {},
   "outputs": [],
   "source": []
  },
  {
   "cell_type": "markdown",
   "metadata": {},
   "source": [
    "3. Rasterize FIRE YEARDOY for each year"
   ]
  },
  {
   "cell_type": "code",
   "execution_count": null,
   "metadata": {},
   "outputs": [],
   "source": [
    "# Loop through years\n",
    "for yr in yr_ls:    \n",
    "    effis_yr = effis_sel.query(f'Year == {yr}')\n",
    "    \n",
    "    # Start creating one raster per each year using the FIREID\n",
    "    outfilename = f'FIRE_YEARDOY_{yr}.tif'\n",
    "    outfile = os.path.join(outFIREYEARDOY_folder, outfilename) \n",
    "    if not os.path.exists(outfile):\n",
    "        rasterize_vector_to_raster(\n",
    "        effis_yr, \n",
    "        'yeardoy',\n",
    "        outfile, \n",
    "        raster_width, \n",
    "        raster_height, \n",
    "        minx, \n",
    "        maxy, \n",
    "        resolution=resolution, \n",
    "        raster_crs='EPSG:3035', \n",
    "        chunk_size=1000, \n",
    "        compression='lzw'\n",
    "    )"
   ]
  },
  {
   "cell_type": "code",
   "execution_count": null,
   "metadata": {},
   "outputs": [],
   "source": [
    "# zip folder content and save in the same folder\n",
    "folder_to_zip = outFIREID_folder\n",
    "output_zip_file = os.path.join(outFIREYEARDOY_folder, 'FIREYEARDOY_0023.zip')\n",
    "\n",
    "utils.zip_files_without_structure(folder_to_zip, output_zip_file)"
   ]
  }
 ],
 "metadata": {
  "kernelspec": {
   "display_name": "geospatial_ETC_DI_v4",
   "language": "python",
   "name": "python3"
  },
  "language_info": {
   "codemirror_mode": {
    "name": "ipython",
    "version": 3
   },
   "file_extension": ".py",
   "mimetype": "text/x-python",
   "name": "python",
   "nbconvert_exporter": "python",
   "pygments_lexer": "ipython3",
   "version": "3.9.15"
  },
  "orig_nbformat": 4
 },
 "nbformat": 4,
 "nbformat_minor": 2
}
