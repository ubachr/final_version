{
 "cells": [
  {
   "cell_type": "markdown",
   "metadata": {},
   "source": [
    "**WILDFIRES UPDATE 2022 APPROACH - AP2022**"
   ]
  },
  {
   "cell_type": "markdown",
   "metadata": {},
   "source": [
    "## General overview"
   ]
  },
  {
   "cell_type": "markdown",
   "metadata": {},
   "source": [
    "Process overview to update the burnt areas dataset:\n",
    "- Data extracion from the JRC EFFIS/Wildfire Database as a shapefile\n",
    "- Filter per year (field name 'YEAR')\n",
    "- Rasterization (one separate raster per year)\n",
    "- Summing all the wildfires to compute wildfires recurrence"
   ]
  },
  {
   "cell_type": "markdown",
   "metadata": {},
   "source": [
    "## Data considerations"
   ]
  },
  {
   "cell_type": "markdown",
   "metadata": {},
   "source": [
    "**IMPORTANT NOTE:**\n",
    "The Rapid Damage Assessment (RDA) module of EFFIS was initially implemented in 2003 to map burned areas during the fire season,\n",
    "by analyzing MODIS daily images at 250 m spatial resolution. For the monitoring of burned areas during the summer,\n",
    "daily images from the MODIS instruments on board of TERRA and AQUA satellites are acquired and processed few hours after the acquisition.\n",
    "\n",
    "The EFFIS Rapid Damage Assessment provides the daily update of the perimeters of burnt areas in Europe twice, every day **for fires of about 30 ha or larger**.\n",
    "\n",
    "For any use of the EFFIS Burnt Area product the conditions listed below must be taken into consideration:\n",
    " - The product is derived from the daily processing of MODIS satellite imagery at 250 m ground spatial resolution.\n",
    " - The perimeters of the burned scars in the represent areas burned by fires as detected from MODIS satellite imagery. \n",
    "   Therefore, no distinction is made between wildland fires, environmental burnings or prescribed fires.\n",
    " - Burnt scars of approximately 30 hectares in size are mapped, although the product may also include the perimeters\n",
    "   of burned areas of smaller dimension.\n",
    " - Small burnt or un-burnt areas below the spatial resolution of the MODIS imagery are not mapped; \n",
    "   these may include small unburned islands inside the burnt area perimeter.\n",
    " - The Burnt Area product is updated up two times every day. \n",
    "   The perimeter of burnt areas due to different fires happening between two sequential updates may be merged into a single perimeter.\n",
    " - The dates reported as Start date and Last update may not correspond to the date of ignition and extinction of the fire\n",
    " - The EFFIS burnt area product is intended to provide estimates of burnt areas at European level. Caution should be taken when comparing this product to other data that may have been produced using different methodologies and scopes.\n",
    " - Although the burnt area perimeters are overlayed on the Google imagery, it must be noted that the original EFFIS product \n",
    "   is produced at 250 m spatial resolution, not at the resolution of the underlying Google images.\n",
    "\n",
    "Although only a fraction of the total number of fires is mapped, the area burned by fires of this size represents \n",
    "**about 75% to 80%** of the total area burned in EU.\n",
    "\n",
    "Modeling historical fire data from the EFFIS European fire database, equations have been set up for the different countries, \n",
    "which allow predicting the total area burned with good accuracy; that is, the total burnt area in a country is obtained as a\n",
    "function of the area burned by fires larger than 30 ha."
   ]
  },
  {
   "cell_type": "markdown",
   "metadata": {},
   "source": [
    "<hr>"
   ]
  },
  {
   "cell_type": "markdown",
   "metadata": {},
   "source": [
    "## Process of updating the burnt areas dataset"
   ]
  },
  {
   "cell_type": "markdown",
   "metadata": {},
   "source": [
    "### Importing modules and settting variables"
   ]
  },
  {
   "cell_type": "code",
   "execution_count": 1,
   "metadata": {},
   "outputs": [],
   "source": [
    "# -*- coding: utf-8 -*-\n",
    "# ------------------------------------------------------------------------------------------\n",
    "# Created on: 2022-07-11\n",
    "# Description: Adaption of processing to incorporate most recent years data for burnt areas\n",
    "# Author: Raquel Ubach (raquel.ubach@uab.cat)\n",
    "# ------------------------------------------------------------------------------------------\n",
    "\n",
    "# Import arcpy module\n",
    "import arcpy, os\n",
    "from arcpy.sa import *\n",
    "import pandas as pd\n",
    "import numpy as np\n",
    "\n",
    "# Setting workspace folders and variables\n",
    "#arcpy.env.extent = \"900000 900000 7400000 5500000\"\n",
    "in_folder = r\"S:\\\\Common workspace\\\\ETCULS\\\\Vulnerability\\\\AP2022\"\n",
    "ba_00_22 =  in_folder + \"\\\\InputData\\\\effis_layer_00_22\\\\ba_00_22.shp\" #input features\n",
    "\n",
    "out_ws = in_folder + \"\\\\Output_22\" #folder to store results\n",
    "if not os.path.exists(out_ws): #create folder if it does not exist\n",
    "    os.makedirs(out_ws)\n",
    "\n",
    "# CreateFileGDB to store intemediate files\n",
    "out_gdb = \"BurntAreas_22.gdb\"\n",
    "out_gdb_path  = out_ws + \"\\\\\" + out_gdb\n",
    "if not arcpy.Exists(out_gdb_path):\n",
    "    arcpy.CreateFileGDB_management(out_ws, out_gdb)"
   ]
  },
  {
   "cell_type": "markdown",
   "metadata": {},
   "source": [
    "### Preparing data: adding required fields"
   ]
  },
  {
   "cell_type": "code",
   "execution_count": 2,
   "metadata": {
    "collapsed": true
   },
   "outputs": [
    {
     "data": {
      "text/html": [
       "<div class='gpresult'><h2>Messages</h2><div id='messages' data-messages='[\"Start Time: 14 July 2022 09:57:44\",\"Succeeded at 14 July 2022 09:57:56 (Elapsed Time: 11.94 seconds)\"]' data-show='true'><div id = 'default' /></div></div>"
      ],
      "text/plain": [
       "<Result 'S:\\\\\\\\Common workspace\\\\\\\\ETCULS\\\\\\\\Vulnerability\\\\\\\\AP2022\\\\InputData\\\\ba_00_22.shp'>"
      ]
     },
     "execution_count": 2,
     "metadata": {},
     "output_type": "execute_result"
    }
   ],
   "source": [
    "# Adding field to store effis id (as a numeric field) \n",
    "fieldname = \"EFFISID\"\n",
    "arcpy.AddField_management(ba_00_22, fieldname, \"LONG\")\n",
    "expression = 'int(!id!.rstrip())'\n",
    "arcpy.CalculateField_management(ba_00_22, fieldname, expression, \"PYTHON3\")"
   ]
  },
  {
   "cell_type": "code",
   "execution_count": 55,
   "metadata": {
    "collapsed": true
   },
   "outputs": [
    {
     "data": {
      "text/html": [
       "<div class='gpresult'><h2>Messages</h2><div id='messages' data-messages='[\"Start Time: 13 July 2022 13:43:56\",\"Succeeded at 13 July 2022 13:44:02 (Elapsed Time: 5.66 seconds)\"]' data-show='true'><div id = 'default' /></div></div>"
      ],
      "text/plain": [
       "<Result 'S:\\\\\\\\Common workspace\\\\\\\\ETCULS\\\\\\\\Vulnerability\\\\\\\\AP2022\\\\InputData\\\\ba_00_22.shp'>"
      ]
     },
     "execution_count": 55,
     "metadata": {},
     "output_type": "execute_result"
    }
   ],
   "source": [
    "# Adding field to store year \n",
    "fieldname = \"YEAR\"\n",
    "arcpy.AddField_management(ba_00_22, fieldname, \"LONG\", 4, \"\", \"\", \"year\", \"NULLABLE\", \"REQUIRED\")\n",
    "expression = '!FIREDATE!.split(\"-\")[0]'\n",
    "arcpy.CalculateField_management(ba_00_22, fieldname, expression, \"PYTHON3\")"
   ]
  },
  {
   "cell_type": "code",
   "execution_count": 40,
   "metadata": {
    "collapsed": true
   },
   "outputs": [
    {
     "data": {
      "text/html": [
       "<div class='gpresult'><h2>Messages</h2><div id='messages' data-messages='[\"Start Time: 13 July 2022 13:12:08\",\"Succeeded at 13 July 2022 13:12:16 (Elapsed Time: 8.21 seconds)\"]' data-show='true'><div id = 'default' /></div></div>"
      ],
      "text/plain": [
       "<Result 'S:\\\\\\\\Common workspace\\\\\\\\ETCULS\\\\\\\\Vulnerability\\\\\\\\AP2022\\\\InputData\\\\ba_00_22.shp'>"
      ]
     },
     "execution_count": 40,
     "metadata": {},
     "output_type": "execute_result"
    }
   ],
   "source": [
    "# Adding field to store month\n",
    "fieldname = \"MONTH\"\n",
    "arcpy.AddField_management(ba_00_22, fieldname, \"LONG\", 2)\n",
    "expression = '!FIREDATE!.split(\"-\")[1]'\n",
    "arcpy.CalculateField_management(ba_00_22, fieldname, expression, \"PYTHON3\")"
   ]
  },
  {
   "cell_type": "code",
   "execution_count": 43,
   "metadata": {},
   "outputs": [
    {
     "data": {
      "text/html": [
       "<div class='gpresult'><h2>Messages</h2><div id='messages' data-messages='[\"Start Time: 13 July 2022 13:14:45\",\"Succeeded at 13 July 2022 13:14:55 (Elapsed Time: 10.17 seconds)\"]' data-show='true'><div id = 'default' /></div></div>"
      ],
      "text/plain": [
       "<Result 'S:\\\\\\\\Common workspace\\\\\\\\ETCULS\\\\\\\\Vulnerability\\\\\\\\AP2022\\\\InputData\\\\ba_00_22.shp'>"
      ]
     },
     "execution_count": 43,
     "metadata": {},
     "output_type": "execute_result"
    }
   ],
   "source": [
    "# Adding field to store day\n",
    "fieldname = \"DAY\"\n",
    "arcpy.AddField_management(ba_00_22, fieldname, \"LONG\", 2)\n",
    "expression = '!FIREDATE!.split(\"-\")[2][:2]'\n",
    "arcpy.CalculateField_management(ba_00_22, fieldname, expression, \"PYTHON3\")"
   ]
  },
  {
   "cell_type": "code",
   "execution_count": 12,
   "metadata": {
    "collapsed": true
   },
   "outputs": [
    {
     "data": {
      "text/html": [
       "<div class='gpresult'><h2>Messages</h2><div id='messages' data-messages='[\"Start Time: 13 July 2022 10:55:33\",\"Succeeded at 13 July 2022 10:55:41 (Elapsed Time: 7.74 seconds)\"]' data-show='true'><div id = 'default' /></div></div>"
      ],
      "text/plain": [
       "<Result 'S:\\\\\\\\Common workspace\\\\\\\\ETCULS\\\\\\\\Vulnerability\\\\\\\\AP2022\\\\InputData\\\\ba_00_22.shp'>"
      ]
     },
     "execution_count": 12,
     "metadata": {},
     "output_type": "execute_result"
    }
   ],
   "source": [
    "# Adding field to store country code\n",
    "fieldname = \"Ctry\"\n",
    "arcpy.AddField_management(ba_00_22, fieldname, \"TEXT\", field_length=2)\n",
    "expression = '!COUNTRY!.rstrip()'\n",
    "arcpy.CalculateField_management(ba_00_22, fieldname, expression, \"PYTHON3\")"
   ]
  },
  {
   "cell_type": "code",
   "execution_count": 13,
   "metadata": {
    "collapsed": true
   },
   "outputs": [
    {
     "data": {
      "text/html": [
       "<div class='gpresult'><h2>Messages</h2><div id='messages' data-messages='[\"Start Time: 13 July 2022 11:08:28\",\"Succeeded at 13 July 2022 12:01:30 (Elapsed Time: 53 minutes 1 seconds)\"]' data-show='true'><div id = 'default' /></div></div>"
      ],
      "text/plain": [
       "<Result 'S:\\\\\\\\Common workspace\\\\\\\\ETCULS\\\\\\\\Vulnerability\\\\\\\\AP2022\\\\InputData\\\\ba_00_22.shp'>"
      ]
     },
     "execution_count": 13,
     "metadata": {},
     "output_type": "execute_result"
    }
   ],
   "source": [
    "# Join field to allow filtering by EEA38, EA27 \n",
    "in_tbl = in_folder + \"\\\\InputData\\\\Country_code.csv\"\n",
    "csv = pd.read_csv(in_tbl, sep=',')\n",
    "#tbl = arcpy.conversion.TableToTable(csv, out_path, out_name, {where_clause}, {field_mapping}, {config_keyword})\n",
    "inFeatures=ba_00_22\n",
    "joinField='Ctry'\n",
    "joinTable=in_tbl\n",
    "joinField='Ctry'\n",
    "arcpy.JoinField_management(inFeatures, joinField, joinTable, joinField)"
   ]
  },
  {
   "cell_type": "markdown",
   "metadata": {},
   "source": [
    "### Accessing data and processing by year"
   ]
  },
  {
   "cell_type": "code",
   "execution_count": 5,
   "metadata": {},
   "outputs": [],
   "source": [
    "arcpy.env.overwriteOutput = True\n",
    "#arcpy.env.extent = \"900000 900000 7400000 5500000\"\n",
    "arcpy.env.extent = \"1339500 666300 7579500 5326300\"\n",
    "\n",
    "years = [*range (2000, 2023, 1)]\n",
    "\n",
    "for i in years:\n",
    "    #Select events per year\n",
    "    layer_file = \"layer_\" + str(i)\n",
    "    where_clause = \"YEAR = \" + str(i)\n",
    "    if not arcpy.Exists(layer_file):\n",
    "        arcpy.management.MakeFeatureLayer(ba_00_22, layer_file, where_clause)\n",
    "    \n",
    "    #Rasterize input elements\n",
    "    outRaster = out_gdb_path + \"\\\\BA_\" + str(i) + \"_r\"\n",
    "    if not arcpy.Exists(outRaster):\n",
    "        arcpy.FeatureToRaster_conversion(layer_file, \"EFFISID\", outRaster, 100)\n",
    "  \n",
    "    #Export to tif\n",
    "    tif = out_ws + \"\\\\BA\" + str(i) + \".tif\"\n",
    "    if not arcpy.Exists(tif):\n",
    "        arcpy.CopyRaster_management(outRaster, tif, \"\", \"\", \"0\", \"NONE\", \"NONE\", \"32_BIT_UNSIGNED\", \"NONE\", \"NONE\", \"TIFF\", \"NONE\")"
   ]
  },
  {
   "cell_type": "markdown",
   "metadata": {},
   "source": [
    "### Creating Look-Up Table (LUT)"
   ]
  },
  {
   "cell_type": "code",
   "execution_count": 2,
   "metadata": {},
   "outputs": [],
   "source": [
    "from arcgis.gis import GIS\n",
    "df = pd.DataFrame.spatial.from_featureclass(ba_00_22)"
   ]
  },
  {
   "cell_type": "code",
   "execution_count": 12,
   "metadata": {},
   "outputs": [
    {
     "data": {
      "text/plain": [
       "['FID', 'id', 'FIREDATE', 'LASTUPDATE', 'COUNTRY', 'PROVINCE', 'COMMUNE', 'AREA_HA', 'BROADLEA', 'CONIFER', 'MIXED', 'SCLEROPH', 'TRANSIT', 'OTHERNATLC', 'AGRIAREAS', 'ARTIFSURF', 'OTHERLC', 'PERCNA2K', 'CLASS', 'YEARSEASON', 'Ctry', 'Country_1', 'EU27', 'EEA38', 'YEAR', 'MONTH', 'DAY', 'EFFISID', 'SHAPE']"
      ]
     },
     "execution_count": 12,
     "metadata": {},
     "output_type": "execute_result"
    }
   ],
   "source": [
    "col_ls = df.columns.values.tolist()\n",
    "col_ls"
   ]
  },
  {
   "cell_type": "code",
   "execution_count": 3,
   "metadata": {
    "scrolled": true
   },
   "outputs": [
    {
     "data": {
      "text/html": [
       "<div>\n",
       "<style scoped>\n",
       "    .dataframe tbody tr th:only-of-type {\n",
       "        vertical-align: middle;\n",
       "    }\n",
       "\n",
       "    .dataframe tbody tr th {\n",
       "        vertical-align: top;\n",
       "    }\n",
       "\n",
       "    .dataframe thead th {\n",
       "        text-align: right;\n",
       "    }\n",
       "</style>\n",
       "<table border=\"1\" class=\"dataframe\">\n",
       "  <thead>\n",
       "    <tr style=\"text-align: right;\">\n",
       "      <th></th>\n",
       "      <th>EFFISID</th>\n",
       "      <th>AREA_HA</th>\n",
       "      <th>COMMUNE</th>\n",
       "      <th>PROVINCE</th>\n",
       "      <th>COUNTRY</th>\n",
       "      <th>Country_1</th>\n",
       "      <th>EU27</th>\n",
       "      <th>EEA38</th>\n",
       "      <th>FIREDATE</th>\n",
       "      <th>LASTUPDATE</th>\n",
       "      <th>YEAR</th>\n",
       "      <th>MONTH</th>\n",
       "      <th>DAY</th>\n",
       "    </tr>\n",
       "  </thead>\n",
       "  <tbody>\n",
       "    <tr>\n",
       "      <th>0</th>\n",
       "      <td>27361</td>\n",
       "      <td>95</td>\n",
       "      <td>San Giovanni Rotondo</td>\n",
       "      <td>Foggia</td>\n",
       "      <td>IT</td>\n",
       "      <td>Italy</td>\n",
       "      <td>1</td>\n",
       "      <td>1</td>\n",
       "      <td>2000-01-01 00:00:00</td>\n",
       "      <td>2000-01-01 00:00:00</td>\n",
       "      <td>2000</td>\n",
       "      <td>1</td>\n",
       "      <td>1</td>\n",
       "    </tr>\n",
       "    <tr>\n",
       "      <th>1</th>\n",
       "      <td>27785</td>\n",
       "      <td>91</td>\n",
       "      <td>Cepões, Meijinhos e Melcões</td>\n",
       "      <td>Douro</td>\n",
       "      <td>PT</td>\n",
       "      <td>Portugal</td>\n",
       "      <td>1</td>\n",
       "      <td>1</td>\n",
       "      <td>2000-01-01 00:00:00</td>\n",
       "      <td>2000-01-01 00:00:00</td>\n",
       "      <td>2000</td>\n",
       "      <td>1</td>\n",
       "      <td>1</td>\n",
       "    </tr>\n",
       "    <tr>\n",
       "      <th>2</th>\n",
       "      <td>27809</td>\n",
       "      <td>126</td>\n",
       "      <td>Ragusa</td>\n",
       "      <td>Ragusa</td>\n",
       "      <td>IT</td>\n",
       "      <td>Italy</td>\n",
       "      <td>1</td>\n",
       "      <td>1</td>\n",
       "      <td>2000-01-01 00:00:00</td>\n",
       "      <td>2000-01-01 00:00:00</td>\n",
       "      <td>2000</td>\n",
       "      <td>1</td>\n",
       "      <td>1</td>\n",
       "    </tr>\n",
       "    <tr>\n",
       "      <th>3</th>\n",
       "      <td>27827</td>\n",
       "      <td>432</td>\n",
       "      <td>Avessadas e Rosém</td>\n",
       "      <td>Tâmega e Sousa</td>\n",
       "      <td>PT</td>\n",
       "      <td>Portugal</td>\n",
       "      <td>1</td>\n",
       "      <td>1</td>\n",
       "      <td>2000-01-01 00:00:00</td>\n",
       "      <td>2000-01-01 00:00:00</td>\n",
       "      <td>2000</td>\n",
       "      <td>1</td>\n",
       "      <td>1</td>\n",
       "    </tr>\n",
       "    <tr>\n",
       "      <th>4</th>\n",
       "      <td>27865</td>\n",
       "      <td>70</td>\n",
       "      <td>Paranhos</td>\n",
       "      <td>Beiras e Serra da Estrela</td>\n",
       "      <td>PT</td>\n",
       "      <td>Portugal</td>\n",
       "      <td>1</td>\n",
       "      <td>1</td>\n",
       "      <td>2000-01-01 00:00:00</td>\n",
       "      <td>2000-01-01 00:00:00</td>\n",
       "      <td>2000</td>\n",
       "      <td>1</td>\n",
       "      <td>1</td>\n",
       "    </tr>\n",
       "  </tbody>\n",
       "</table>\n",
       "</div>"
      ],
      "text/plain": [
       "   EFFISID AREA_HA                      COMMUNE  ...  YEAR MONTH DAY\n",
       "0    27361      95         San Giovanni Rotondo  ...  2000     1   1\n",
       "1    27785      91  Cepões, Meijinhos e Melcões  ...  2000     1   1\n",
       "2    27809     126                       Ragusa  ...  2000     1   1\n",
       "3    27827     432            Avessadas e Rosém  ...  2000     1   1\n",
       "4    27865      70                     Paranhos  ...  2000     1   1\n",
       "\n",
       "[5 rows x 13 columns]"
      ]
     },
     "execution_count": 3,
     "metadata": {},
     "output_type": "execute_result"
    }
   ],
   "source": [
    "sel_cols = ['EFFISID', 'AREA_HA', 'COMMUNE', 'PROVINCE', 'COUNTRY', 'Country_1', 'EU27', 'EEA38', 'FIREDATE', 'LASTUPDATE', 'YEAR', 'MONTH', 'DAY']\n",
    "df2 = df.loc[:, sel_cols]\n",
    "df2.head()"
   ]
  },
  {
   "cell_type": "code",
   "execution_count": 19,
   "metadata": {},
   "outputs": [],
   "source": [
    "# Export to csv table\n",
    "out_tbl = out_ws + '\\\\LUT_EFFIS_Fires_00_22.csv'\n",
    "if not os.path.exists(out_tbl):\n",
    "    df2.to_csv(out_tbl, encoding='utf-8')"
   ]
  }
 ],
 "metadata": {
  "celltoolbar": "Raw Cell Format",
  "kernelspec": {
   "display_name": "ArcGISPro",
   "language": "Python",
   "name": "python3"
  },
  "language_info": {
   "file_extension": ".py",
   "name": "python",
   "version": "3"
  },
  "toc": {
   "base_numbering": 1,
   "nav_menu": {},
   "number_sections": true,
   "sideBar": true,
   "skip_h1_title": false,
   "title_cell": "Table of Contents",
   "title_sidebar": "Contents",
   "toc_cell": false,
   "toc_position": {},
   "toc_section_display": true,
   "toc_window_display": false
  }
 },
 "nbformat": 4,
 "nbformat_minor": 2
}
