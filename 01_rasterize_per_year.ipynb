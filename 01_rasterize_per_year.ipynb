{
 "cells": [
  {
   "cell_type": "code",
   "execution_count": 6,
   "metadata": {},
   "outputs": [],
   "source": [
    "from src import utils"
   ]
  },
  {
   "cell_type": "code",
   "execution_count": 5,
   "metadata": {},
   "outputs": [
    {
     "name": "stderr",
     "output_type": "stream",
     "text": [
      "c:\\Users\\ubach\\.conda\\envs\\geospatial_ETC_DI_v4\\lib\\site-packages\\geopandas\\_compat.py:123: UserWarning: The Shapely GEOS version (3.11.2-CAPI-1.17.2) is incompatible with the GEOS version PyGEOS was compiled with (3.10.4-CAPI-1.16.2). Conversions between both will be slow.\n",
      "  warnings.warn(\n",
      "Q:\\UserTemp\\ubach\\AppData\\Local\\Temp\\4\\ipykernel_1206344\\3466570486.py:2: UserWarning: Shapely 2.0 is installed, but because PyGEOS is also installed, GeoPandas will still use PyGEOS by default for now. To force to use and test Shapely 2.0, you have to set the environment variable USE_PYGEOS=0. You can do this before starting the Python process, or in your code before importing geopandas:\n",
      "\n",
      "import os\n",
      "os.environ['USE_PYGEOS'] = '0'\n",
      "import geopandas\n",
      "\n",
      "In a future release, GeoPandas will switch to using Shapely by default. If you are using PyGEOS directly (calling PyGEOS functions on geometries from GeoPandas), this will then stop working and you are encouraged to migrate from PyGEOS to Shapely 2.0 (https://shapely.readthedocs.io/en/latest/migration_pygeos.html).\n",
      "  import geopandas as gpd\n"
     ]
    }
   ],
   "source": [
    "#import required libraries\n",
    "import geopandas as gpd\n",
    "import xarray as xr\n",
    "import pandas as pd\n",
    "import os, glob\n",
    "import numpy as np\n",
    "\n",
    "from matplotlib import pyplot as plt\n",
    "import matplotlib.colors\n",
    "from matplotlib.colors import LogNorm\n",
    "import cartopy.crs as ccrs\n",
    "from cartopy.mpl.gridliner import LONGITUDE_FORMATTER, LATITUDE_FORMATTER\n",
    "import cartopy.feature as cfeature\n",
    "import matplotlib.cm as cm\n",
    "\n",
    "import rioxarray as rio\n",
    "import rasterio\n",
    "from rasterio.crs import CRS\n",
    "from rasterio.enums import Resampling\n",
    "from rasterio.warp import reproject\n",
    "from rasterio.windows import Window, transform as rio_window_transform\n",
    "from rasterio.windows import from_bounds\n",
    "from rasterio.transform import Affine\n",
    "from rasterio.features import rasterize\n",
    "from rasterio.transform import from_origin\n",
    "from rasterio.features import rasterize\n",
    "from shapely.geometry import box\n",
    "\n",
    "import dask\n",
    "import dask.array as da\n",
    "from dask.delayed import delayed\n",
    "\n",
    "from osgeo import gdal, ogr, osr\n",
    "\n",
    "import seaborn as sns\n",
    "import zipfile"
   ]
  },
  {
   "cell_type": "code",
   "execution_count": null,
   "metadata": {},
   "outputs": [],
   "source": [
    "from src import utils\n",
    "import importlib\n",
    "importlib.reload(utils)\n",
    "#from src.utils import *\n",
    "\n",
    "print(dir(utils))\n",
    "print(utils.zip_files_without_structure)"
   ]
  },
  {
   "cell_type": "markdown",
   "metadata": {},
   "source": [
    "0. Load EFFIS data"
   ]
  },
  {
   "cell_type": "code",
   "execution_count": 6,
   "metadata": {},
   "outputs": [],
   "source": [
    "# Path to data folders\n",
    "project_f = r'L:\\f02_data\\wildfires\\spatial_data'\n",
    "\n",
    "# Create output folder structure\n",
    "outfolder =  os.path.join(project_f, 'output')\n",
    "os.makedirs(outfolder, exist_ok=True)\n",
    "\n",
    "outFIREID_folder =  os.path.join(project_f, 'output', 'FIRE_ID')\n",
    "os.makedirs(outFIREID_folder, exist_ok=True)\n",
    "\n",
    "outFIREYEARDOY_folder =  os.path.join(project_f, 'output', 'FIRE_YEARDOY')\n",
    "os.makedirs(outFIREYEARDOY_folder, exist_ok=True)"
   ]
  },
  {
   "cell_type": "code",
   "execution_count": 7,
   "metadata": {},
   "outputs": [
    {
     "name": "stdout",
     "output_type": "stream",
     "text": [
      "New CRS: EPSG:3035\n"
     ]
    }
   ],
   "source": [
    "# load wildfires data\n",
    "effis_path =  os.path.join(project_f, 'input', 'effis_rawdata_20240402', 'modis.ba.poly.shp')\n",
    "effis = gpd.read_file(effis_path)\n",
    "\n",
    "# read effis id as an integer\n",
    "effis['id'] = effis['id'].astype(int)\n",
    "\n",
    "# Convert the column containing dates to datetime format\n",
    "effis['date'] = pd.to_datetime(effis['FIREDATE'])\n",
    "\n",
    "# Change the CRS to EPSG:3035\n",
    "effis = effis.to_crs(epsg=3035)\n",
    "\n",
    "# Verify the new CRS\n",
    "print(\"New CRS:\", effis.crs)"
   ]
  },
  {
   "cell_type": "code",
   "execution_count": null,
   "metadata": {},
   "outputs": [],
   "source": [
    "effis.head()"
   ]
  },
  {
   "cell_type": "code",
   "execution_count": null,
   "metadata": {},
   "outputs": [],
   "source": [
    "# create a lighter subset with target columns\n",
    "effis_sel = effis[['id', 'COUNTRY',\n",
    " 'FIREDATE','Year',\n",
    " 'Month','date','AREA_HA','geometry']]"
   ]
  },
  {
   "cell_type": "code",
   "execution_count": null,
   "metadata": {},
   "outputs": [],
   "source": [
    "#create additional fields to include DOY\n",
    "effis_sel['doy'] = effis_sel['date'].dt.dayofyear\n",
    "year2dig = (effis_sel.Year.astype(str).str[-2:])\n",
    "year000 = year2dig+str('000')\n",
    "effis_sel['yeardoy'] =year000.astype(int)+ effis_sel['doy'] \n",
    "effis_sel.tail()"
   ]
  },
  {
   "cell_type": "markdown",
   "metadata": {},
   "source": [
    "1. Define reference raster to copy parameters"
   ]
  },
  {
   "cell_type": "code",
   "execution_count": null,
   "metadata": {},
   "outputs": [],
   "source": [
    "# Reference raster\n",
    "refrast_path = r'M:\\f01_dims\\ADMbndEEA39v2021\\f02_upload_to_jedi\\Adm_EEA38_NUTS2021v2022.tif'\n",
    "\n",
    "# Open the raster data and taking extent and resolution parameters\n",
    "refraster = rasterio.open(refrast_path)\n",
    "raster_width = refraster.width\n",
    "raster_height = refraster.height\n",
    "minx = refraster.bounds.left\n",
    "maxy = refraster.bounds.top\n",
    "resolution = 100\n",
    "\n",
    "# create list for analysed years\n",
    "yr_ls = effis_sel.Year.unique().tolist()"
   ]
  },
  {
   "cell_type": "markdown",
   "metadata": {},
   "source": [
    "2. Rasterize FIREID for each year"
   ]
  },
  {
   "cell_type": "code",
   "execution_count": null,
   "metadata": {},
   "outputs": [],
   "source": [
    "# Loop through years\n",
    "for yr in yr_ls:    \n",
    "    effis_yr = effis_sel.query(f'Year == {yr}')\n",
    "    print(f'year {yr} - nr of fires {effis_yr.id.max()}')\n",
    "    \n",
    "    # Start creating one raster per each year using the FIREID\n",
    "    outfilename = f'FIREID_{yr}.tif'\n",
    "    outfile = os.path.join(outFIREID_folder, outfilename) \n",
    "    if not os.path.exists(outfile):\n",
    "        rasterize_vector_to_raster(\n",
    "        effis_yr, \n",
    "        'id',\n",
    "        outfile, \n",
    "        raster_width, \n",
    "        raster_height, \n",
    "        minx, \n",
    "        maxy, \n",
    "        resolution=resolution, \n",
    "        raster_crs='EPSG:3035', \n",
    "        chunk_size=1000, \n",
    "        compression='lzw'\n",
    "    )"
   ]
  },
  {
   "cell_type": "code",
   "execution_count": null,
   "metadata": {},
   "outputs": [],
   "source": [
    "from src.utils import *\n",
    "from src import utils\n",
    "\n",
    "# zip folder content and save in the same folder\n",
    "folder_to_zip = outFIREID_folder\n",
    "output_zip_file = os.path.join(outFIREID_folder, 'FIREID_0023.zip')\n",
    "\n",
    "utils.zip_files_without_structure(folder_to_zip, output_zip_file)"
   ]
  },
  {
   "cell_type": "code",
   "execution_count": null,
   "metadata": {},
   "outputs": [],
   "source": [
    "print(os.path.join(project_f, 'output', 'FIRE_ID', 'FIREID_0023.zip'))"
   ]
  },
  {
   "cell_type": "markdown",
   "metadata": {},
   "source": [
    "#### Create LUT"
   ]
  },
  {
   "cell_type": "code",
   "execution_count": 12,
   "metadata": {},
   "outputs": [],
   "source": [
    "effis22 = effis.query('Year==2022')"
   ]
  },
  {
   "cell_type": "code",
   "execution_count": 13,
   "metadata": {},
   "outputs": [
    {
     "data": {
      "text/html": [
       "<div>\n",
       "<style scoped>\n",
       "    .dataframe tbody tr th:only-of-type {\n",
       "        vertical-align: middle;\n",
       "    }\n",
       "\n",
       "    .dataframe tbody tr th {\n",
       "        vertical-align: top;\n",
       "    }\n",
       "\n",
       "    .dataframe thead th {\n",
       "        text-align: right;\n",
       "    }\n",
       "</style>\n",
       "<table border=\"1\" class=\"dataframe\">\n",
       "  <thead>\n",
       "    <tr style=\"text-align: right;\">\n",
       "      <th></th>\n",
       "      <th>id</th>\n",
       "      <th>FIREDATE</th>\n",
       "      <th>LASTUPDATE</th>\n",
       "      <th>COUNTRY</th>\n",
       "      <th>PROVINCE</th>\n",
       "      <th>COMMUNE</th>\n",
       "      <th>AREA_HA</th>\n",
       "      <th>BROADLEA</th>\n",
       "      <th>CONIFER</th>\n",
       "      <th>MIXED</th>\n",
       "      <th>...</th>\n",
       "      <th>OTHERNATLC</th>\n",
       "      <th>AGRIAREAS</th>\n",
       "      <th>ARTIFSURF</th>\n",
       "      <th>OTHERLC</th>\n",
       "      <th>PERCNA2K</th>\n",
       "      <th>CLASS</th>\n",
       "      <th>Year</th>\n",
       "      <th>Month</th>\n",
       "      <th>geometry</th>\n",
       "      <th>date</th>\n",
       "    </tr>\n",
       "  </thead>\n",
       "  <tbody>\n",
       "    <tr>\n",
       "      <th>46689</th>\n",
       "      <td>59324</td>\n",
       "      <td>2022-01-24 13:10:00</td>\n",
       "      <td>2022-01-24 13:10:00</td>\n",
       "      <td>FR</td>\n",
       "      <td>Pyrénées-Atlantiques</td>\n",
       "      <td>Larrau</td>\n",
       "      <td>325</td>\n",
       "      <td>10.479041916164528</td>\n",
       "      <td>0</td>\n",
       "      <td>0</td>\n",
       "      <td>...</td>\n",
       "      <td>85.02994011973503</td>\n",
       "      <td>2.3952095808376064</td>\n",
       "      <td>0</td>\n",
       "      <td>0</td>\n",
       "      <td>100</td>\n",
       "      <td>FireSeason</td>\n",
       "      <td>2022</td>\n",
       "      <td>1</td>\n",
       "      <td>POLYGON ((3431194.276 2278228.189, 3431214.924...</td>\n",
       "      <td>2022-01-24 13:10:00</td>\n",
       "    </tr>\n",
       "  </tbody>\n",
       "</table>\n",
       "<p>1 rows × 22 columns</p>\n",
       "</div>"
      ],
      "text/plain": [
       "          id             FIREDATE           LASTUPDATE COUNTRY  \\\n",
       "46689  59324  2022-01-24 13:10:00  2022-01-24 13:10:00      FR   \n",
       "\n",
       "                   PROVINCE COMMUNE AREA_HA            BROADLEA CONIFER MIXED  \\\n",
       "46689  Pyrénées-Atlantiques  Larrau     325  10.479041916164528       0     0   \n",
       "\n",
       "       ...         OTHERNATLC           AGRIAREAS ARTIFSURF OTHERLC PERCNA2K  \\\n",
       "46689  ...  85.02994011973503  2.3952095808376064         0       0      100   \n",
       "\n",
       "            CLASS  Year Month  \\\n",
       "46689  FireSeason  2022     1   \n",
       "\n",
       "                                                geometry                date  \n",
       "46689  POLYGON ((3431194.276 2278228.189, 3431214.924... 2022-01-24 13:10:00  \n",
       "\n",
       "[1 rows x 22 columns]"
      ]
     },
     "execution_count": 13,
     "metadata": {},
     "output_type": "execute_result"
    }
   ],
   "source": [
    "effis22.query('id==59324')"
   ]
  },
  {
   "cell_type": "code",
   "execution_count": 14,
   "metadata": {},
   "outputs": [
    {
     "data": {
      "text/plain": [
       "count     13158.000000\n",
       "mean     192044.918909\n",
       "std       28419.860127\n",
       "min       58630.000000\n",
       "25%      183871.250000\n",
       "50%      199786.500000\n",
       "75%      205711.500000\n",
       "max      211851.000000\n",
       "Name: id, dtype: float64"
      ]
     },
     "execution_count": 14,
     "metadata": {},
     "output_type": "execute_result"
    }
   ],
   "source": [
    "effis22.id.describe()"
   ]
  },
  {
   "cell_type": "code",
   "execution_count": 8,
   "metadata": {},
   "outputs": [],
   "source": [
    "effis23 = effis.query('Year==2023')"
   ]
  },
  {
   "cell_type": "code",
   "execution_count": 9,
   "metadata": {},
   "outputs": [
    {
     "data": {
      "text/plain": [
       "<bound method IndexOpsMixin.tolist of Index(['id', 'FIREDATE', 'LASTUPDATE', 'COUNTRY', 'PROVINCE', 'COMMUNE',\n",
       "       'AREA_HA', 'BROADLEA', 'CONIFER', 'MIXED', 'SCLEROPH', 'TRANSIT',\n",
       "       'OTHERNATLC', 'AGRIAREAS', 'ARTIFSURF', 'OTHERLC', 'PERCNA2K', 'CLASS',\n",
       "       'Year', 'Month', 'geometry', 'date'],\n",
       "      dtype='object')>"
      ]
     },
     "execution_count": 9,
     "metadata": {},
     "output_type": "execute_result"
    }
   ],
   "source": [
    "effis23.columns.tolist"
   ]
  },
  {
   "cell_type": "code",
   "execution_count": 10,
   "metadata": {},
   "outputs": [],
   "source": [
    "effis23=effis23[['id', 'FIREDATE', 'LASTUPDATE', 'COUNTRY', 'PROVINCE', 'COMMUNE',\n",
    "       'AREA_HA', 'Year', 'Month', 'geometry', 'date']]"
   ]
  },
  {
   "cell_type": "code",
   "execution_count": 11,
   "metadata": {},
   "outputs": [
    {
     "data": {
      "text/plain": [
       "count      9376.000000\n",
       "mean     218147.977709\n",
       "std        3736.391657\n",
       "min      211820.000000\n",
       "25%      214746.500000\n",
       "50%      218330.500000\n",
       "75%      221511.250000\n",
       "max      225583.000000\n",
       "Name: id, dtype: float64"
      ]
     },
     "execution_count": 11,
     "metadata": {},
     "output_type": "execute_result"
    }
   ],
   "source": [
    "effis23.id.describe()"
   ]
  },
  {
   "cell_type": "markdown",
   "metadata": {},
   "source": [
    "3. Rasterize FIRE YEARDOY for each year"
   ]
  },
  {
   "cell_type": "code",
   "execution_count": null,
   "metadata": {},
   "outputs": [],
   "source": [
    "# Loop through years\n",
    "for yr in yr_ls:    \n",
    "    effis_yr = effis_sel.query(f'Year == {yr}')\n",
    "    \n",
    "    # Start creating one raster per each year using the FIREID\n",
    "    outfilename = f'FIRE_YEARDOY_{yr}.tif'\n",
    "    outfile = os.path.join(outFIREYEARDOY_folder, outfilename) \n",
    "    if not os.path.exists(outfile):\n",
    "        rasterize_vector_to_raster(\n",
    "        effis_yr, \n",
    "        'yeardoy',\n",
    "        outfile, \n",
    "        raster_width, \n",
    "        raster_height, \n",
    "        minx, \n",
    "        maxy, \n",
    "        resolution=resolution, \n",
    "        raster_crs='EPSG:3035', \n",
    "        chunk_size=1000, \n",
    "        compression='lzw'\n",
    "    )"
   ]
  },
  {
   "cell_type": "code",
   "execution_count": null,
   "metadata": {},
   "outputs": [],
   "source": [
    "# zip folder content and save in the same folder\n",
    "folder_to_zip = outFIREID_folder\n",
    "output_zip_file = os.path.join(outFIREYEARDOY_folder, 'FIREYEARDOY_0023.zip')\n",
    "\n",
    "utils.zip_files_without_structure(folder_to_zip, output_zip_file)"
   ]
  }
 ],
 "metadata": {
  "kernelspec": {
   "display_name": "geospatial_ETC_DI_v4",
   "language": "python",
   "name": "python3"
  },
  "language_info": {
   "codemirror_mode": {
    "name": "ipython",
    "version": 3
   },
   "file_extension": ".py",
   "mimetype": "text/x-python",
   "name": "python",
   "nbconvert_exporter": "python",
   "pygments_lexer": "ipython3",
   "version": "3.9.15"
  },
  "orig_nbformat": 4
 },
 "nbformat": 4,
 "nbformat_minor": 2
}
