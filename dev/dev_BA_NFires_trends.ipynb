{
 "cells": [
  {
   "cell_type": "code",
   "execution_count": 1,
   "metadata": {},
   "outputs": [],
   "source": [
    "import glob\n",
    "import os\n",
    "import sys\n",
    "from datetime import datetime\n",
    "from pathlib import Path, WindowsPath\n",
    "\n",
    "import pandas as pd\n",
    "import pymannkendall as mk\n",
    "import xarray as xr\n",
    "from dask.distributed import Client, progress\n",
    "import numpy as np\n",
    "from pprint import pprint"
   ]
  },
  {
   "cell_type": "code",
   "execution_count": 2,
   "metadata": {},
   "outputs": [],
   "source": [
    "\"\"\" \n",
    "Calculate Mann-Kendall trend (binary), p-value, Theil Sen slope and % change computed as (Yfit_fin - Yfit_in) / np.abs(Yfit_in) * 100\n",
    "on time period 2000-2023 (24 years)\n",
    "and at 1km resolution\n",
    "\n",
    "Parameters:\n",
    "base_path: path object\n",
    "\"\"\"\n",
    "\n",
    "def mk_trend_slope(vec):\n",
    "    \"\"\"Helper function to compute mean and standard deviation.\n",
    "    Uses standard deviation to mask out NoData cells.\n",
    "\n",
    "    Args:\n",
    "        vec (1D array): cell time series\n",
    "\n",
    "    Returns:\n",
    "        tuple (integer, float, float, float): Returns tuple of Mann-Kendall trend (binary), p-value, Theil Sen slope and % change\n",
    "        NoData value: -999\n",
    "    \"\"\"\n",
    "    std = np.nanstd(vec)\n",
    "    mk_trends = {\"no trend\": 0,\n",
    "                 \"increasing\": 1,\n",
    "                 \"decreasing\": -1}\n",
    "    if(std == 0 or np.isnan(std)):\n",
    "        trend = -999\n",
    "        slope = -999\n",
    "        pvalue = -999\n",
    "        relative_change = -999\n",
    "    else:\n",
    "        mk_test = mk.original_test(vec)\n",
    "        trend = mk_trends[mk_test.trend]\n",
    "        slope = mk_test.slope\n",
    "        pvalue = mk_test.p\n",
    "        # define Yfit_in, Yfit_fin and overall period\n",
    "        temporal_coverage = 24\n",
    "        Yfit_in = mk_test.intercept\n",
    "        if Yfit_in == 0:\n",
    "            relative_change = -999\n",
    "        else:\n",
    "            relative_change = (slope * temporal_coverage) / np.abs(Yfit_in) * 100\n",
    "\n",
    "    return (trend, slope, pvalue, relative_change)"
   ]
  },
  {
   "cell_type": "code",
   "execution_count": 4,
   "metadata": {},
   "outputs": [],
   "source": [
    "def mk_wrapper(ds_chunked):\n",
    "    \"\"\"wrapper function of ``mk_trend_slope``. Stacks the output of ``mk_trend_slope`` into one DataArray-\n",
    "\n",
    "    Args:\n",
    "        gdmp_chunked (DaskArray): chunked input array, with x,y,time dimensions\n",
    "\n",
    "    Returns:\n",
    "        DataArray: trend, slope, pvalue and relative_change\n",
    "    \"\"\"\n",
    "    trend, slope, pvalue, relative_change = xr.apply_ufunc(\n",
    "        mk_trend_slope,ds_chunked,\n",
    "        input_core_dims=[['time']],\n",
    "        output_core_dims=[[],[],[],[]],\n",
    "        vectorize=True, \n",
    "        dask=\"parallelized\",\n",
    "        output_dtypes=[float, float, float, float])\n",
    "    return xr.concat([trend, slope, pvalue, relative_change], dim=\"statistics\")"
   ]
  },
  {
   "cell_type": "code",
   "execution_count": 7,
   "metadata": {},
   "outputs": [],
   "source": [
    "base_path = r'L:\\f02_data\\wildfires\\spatial_data\\output'\n",
    "in_path = os.path.join(base_path, 'NFires_1km') \n",
    "\n",
    "resolution = '1km'\n",
    "out_path  = os.path.join(base_path, 'NFires_1km_trends')\n",
    "os.makedirs(base_path, exist_ok=True)\n",
    "\n",
    " # load tiffs into xarray\n",
    "tif_list = [os.path.basename(f) for f in glob.glob(in_path + '/*.tif')]\n"
   ]
  },
  {
   "cell_type": "code",
   "execution_count": 14,
   "metadata": {},
   "outputs": [
    {
     "data": {
      "text/plain": [
       "'2000'"
      ]
     },
     "execution_count": 14,
     "metadata": {},
     "output_type": "execute_result"
    }
   ],
   "source": [
    "tif_list[0][-12:-8]"
   ]
  },
  {
   "cell_type": "code",
   "execution_count": 16,
   "metadata": {},
   "outputs": [],
   "source": [
    "base_path = r'L:\\f02_data\\wildfires\\spatial_data\\output'\n",
    "in_path = os.path.join(base_path, 'NFires_1km') \n",
    "\n",
    "resolution = '1km'\n",
    "out_path  = os.path.join(base_path, 'NFires_1km_trends')\n",
    "os.makedirs(base_path, exist_ok=True)\n",
    "\n",
    " # load tiffs into xarray\n",
    "tif_list = [os.path.basename(f) for f in glob.glob(in_path + '/*.tif')]\n",
    "tif_list = tif_list[:-1] #to include 00-23 \n",
    "\n",
    " # Create variable used for time axis\n",
    "time_var = xr.Variable('time', pd.to_datetime([f'{fname[-12:-8]}-01-01' for fname in tif_list]))\n",
    "# Load in and concatenate all individual GeoTIFFs\n",
    "ds= xr.concat([xr.open_dataset(os.path.join(in_path, i), engine='rasterio') for i in tif_list], dim=time_var)\n",
    "\n",
    "# Rename the variable to a more useful name\n",
    "ds = ds.rename({'band_data': 'NFire'})\n",
    "\n",
    "# load data into distributed cluster. this should avoid memory error\n",
    "client = Client()\n",
    "NFire_future = client.scatter(ds)\n",
    "futures = client.submit(mk_wrapper, NFire_future)\n",
    "result = futures.result()\n",
    "result = result.compute() \n",
    "\n",
    "# assign coordinates (layer names) to statistics dimension\n",
    "# prepare DataArrays for saving to disk\n",
    "result = result.assign_coords(statistics=[\"trend\", \"slope\", \"pvalue\", \"relative_change\"])\n",
    "result = result.squeeze(dim=\"band\")\n",
    "result['NFire'].rio.write_nodata(-999, inplace=True)\n",
    "result.rio.write_crs(\"epsg:3035\", inplace=True)\n",
    "ds = ds.squeeze(dim=\"band\")\n",
    "\n",
    "# extract single layers\n",
    "trend = result.sel(statistics=\"trend\")\n",
    "slope = result.sel(statistics=\"slope\")\n",
    "pvalue = result.sel(statistics=\"pvalue\")\n",
    "relative_change = result.sel(statistics=\"relative_change\")\n",
    "\n",
    "# rename layers \n",
    "trend = trend.rename({\"NFire\": \"NFire_trend\"})\n",
    "slope = slope.rename({\"NFire\": \"NFire_slope\"})\n",
    "pvalue = pvalue.rename({\"NFire\": \"NFire_pvalue\"})\n",
    "relative_change = relative_change.rename({\"NFire\": \"NFire_rel_ch\"})\n",
    "\n",
    "# save to disk\n",
    "trend['NFire_trend'].rio.to_raster(os.path.join(out_path, f'NFire_{resolution}_00_23_trend.tif'), compress='LZW')\n",
    "slope['NFire_slope'].rio.to_raster(os.path.join(out_path, f'NFire_{resolution}_00_23_slope.tif'), compress='LZW')\n",
    "pvalue['NFire_pvalue'].rio.to_raster(os.path.join(out_path, f'NFire_{resolution}_00_23_pvalue.tif'), compress='LZW')\n",
    "relative_change['NFire_rel_ch'].rio.to_raster(os.path.join(out_path, f'NFire_{resolution}_00_23_rel_change.tif'), compress='LZW')"
   ]
  }
 ],
 "metadata": {
  "kernelspec": {
   "display_name": "geospatial_ETC_DI_v4",
   "language": "python",
   "name": "python3"
  },
  "language_info": {
   "codemirror_mode": {
    "name": "ipython",
    "version": 3
   },
   "file_extension": ".py",
   "mimetype": "text/x-python",
   "name": "python",
   "nbconvert_exporter": "python",
   "pygments_lexer": "ipython3",
   "version": "3.9.15"
  }
 },
 "nbformat": 4,
 "nbformat_minor": 2
}
