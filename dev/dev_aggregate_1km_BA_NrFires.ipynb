{
 "cells": [
  {
   "cell_type": "code",
   "execution_count": 1,
   "metadata": {},
   "outputs": [],
   "source": [
    "import numpy as np\n",
    "import rasterio\n",
    "import os\n",
    "from os import listdir\n",
    "from os.path import isfile, join\n",
    "import glob"
   ]
  },
  {
   "cell_type": "code",
   "execution_count": 2,
   "metadata": {},
   "outputs": [],
   "source": [
    "input_raster_path = r'L:\\f02_data\\wildfires\\spatial_data\\input\\grid1KmLAND_v2.tif'\n",
    "outputFolder = r'L:\\f02_data\\wildfires\\spatial_data\\output'\n",
    "target_raster_path = os.path.join(outputFolder, 'FIRE_ID', 'FIREID_2000.tif')\n",
    "output_raster_path = r'L:\\f02_data\\wildfires\\spatial_data\\devdata\\grid1KmLAND_v2_100m_tt2.tif'\n",
    "compression = 'zstd'\n",
    "dtype = 'int32'"
   ]
  },
  {
   "cell_type": "code",
   "execution_count": 3,
   "metadata": {},
   "outputs": [
    {
     "name": "stdout",
     "output_type": "stream",
     "text": [
      "0.0\n",
      "0.0\n",
      "0.0\n",
      "0.0\n",
      "0.0\n",
      "0.0\n",
      "0.0\n",
      "0.0\n",
      "0.0\n",
      "0.0\n",
      "0.0\n",
      "0.0\n",
      "0.0\n",
      "0.0\n",
      "0.0\n",
      "0.0\n",
      "0.0\n",
      "0.0\n",
      "0.0\n",
      "0.0\n",
      "0.0\n",
      "0.0\n",
      "0.0\n",
      "0.0\n",
      "0.0\n"
     ]
    }
   ],
   "source": [
    "# apply to all rasters in a folder\n",
    "infolder = os.path.join(outputFolder, 'FIRE_ID')\n",
    "outfolder = os.path.join(outputFolder, 'BA_100m')\n",
    "os.makedirs(outfolder, exist_ok=True)\n",
    "\n",
    "\n",
    "files_ls = [f for f in glob.glob(infolder+\"\\*.tif\")]\n",
    "\n",
    "for i in range(len(files_ls)):\n",
    "    input_file = files_ls[i]\n",
    "\n",
    "    with rasterio.open(input_file, \"r+\") as src:\n",
    "        raster = src.read(1)\n",
    "        print(src.nodata)\n",
    "\n",
    "        resrast = np.int32(raster)\n",
    "        src.nodata = 0\n",
    "        m = src.meta\n",
    "        m.update({\n",
    "        'dtype': 'int32',\n",
    "        'compress': 'zstd'\n",
    "        })\n",
    "\n",
    "        resrast [resrast>0] = 1\n",
    "\n",
    "        outfile_name = files_ls[i].split('\\\\')[-1]\n",
    "        outfile_path = os.path.join(outfolder,outfile_name)\n",
    "\n",
    "        with rasterio.open(outfile_path, 'w',  **m) as dst:\n",
    "            dst.write(resrast,1)"
   ]
  },
  {
   "cell_type": "code",
   "execution_count": 5,
   "metadata": {},
   "outputs": [
    {
     "name": "stdout",
     "output_type": "stream",
     "text": [
      "FIREID_2001.tif\n"
     ]
    },
    {
     "ename": "ExecuteError",
     "evalue": "Failed to execute. Parameters are not valid.\nERROR 001847: Majority resample does not support floating point data type. Please choose another resample method.\nFailed to execute (Resample).\n",
     "output_type": "error",
     "traceback": [
      "\u001b[1;31m---------------------------------------------------------------------------\u001b[0m",
      "\u001b[1;31mExecuteError\u001b[0m                              Traceback (most recent call last)",
      "\u001b[1;32mQ:\\UserTemp\\ubach\\AppData\\Local\\Temp\\4\\ipykernel_674852\\1861156412.py\u001b[0m in \u001b[0;36m<cell line: 0>\u001b[1;34m()\u001b[0m\n\u001b[0;32m     39\u001b[0m         \u001b[0marcpy\u001b[0m\u001b[1;33m.\u001b[0m\u001b[0menv\u001b[0m\u001b[1;33m.\u001b[0m\u001b[0mcellSize\u001b[0m \u001b[1;33m=\u001b[0m \u001b[1;36m1000\u001b[0m\u001b[1;33m\u001b[0m\u001b[1;33m\u001b[0m\u001b[0m\n\u001b[0;32m     40\u001b[0m         \u001b[0marcpy\u001b[0m\u001b[1;33m.\u001b[0m\u001b[0menv\u001b[0m\u001b[1;33m.\u001b[0m\u001b[0mworkspace\u001b[0m \u001b[1;33m=\u001b[0m \u001b[0moutfolder\u001b[0m\u001b[1;33m\u001b[0m\u001b[1;33m\u001b[0m\u001b[0m\n\u001b[1;32m---> 41\u001b[1;33m         \u001b[0marcpy\u001b[0m\u001b[1;33m.\u001b[0m\u001b[0mmanagement\u001b[0m\u001b[1;33m.\u001b[0m\u001b[0mResample\u001b[0m\u001b[1;33m(\u001b[0m\u001b[0moutZonalStats\u001b[0m\u001b[1;33m,\u001b[0m\u001b[1;34m'BA_'\u001b[0m\u001b[1;33m+\u001b[0m\u001b[0mrast\u001b[0m\u001b[1;33m.\u001b[0m\u001b[0msplit\u001b[0m\u001b[1;33m(\u001b[0m\u001b[1;34m'.'\u001b[0m\u001b[1;33m)\u001b[0m\u001b[1;33m[\u001b[0m\u001b[1;36m0\u001b[0m\u001b[1;33m]\u001b[0m\u001b[1;33m[\u001b[0m\u001b[1;33m-\u001b[0m\u001b[1;36m4\u001b[0m\u001b[1;33m:\u001b[0m\u001b[1;33m]\u001b[0m \u001b[1;33m+\u001b[0m \u001b[1;34m'_1km.tif'\u001b[0m\u001b[1;33m,\u001b[0m \u001b[1;34m\"1000 1000\"\u001b[0m\u001b[1;33m,\u001b[0m \u001b[1;34m\"MAJORITY\"\u001b[0m\u001b[1;33m)\u001b[0m\u001b[1;33m\u001b[0m\u001b[1;33m\u001b[0m\u001b[0m\n\u001b[0m\u001b[0;32m     42\u001b[0m \u001b[1;33m\u001b[0m\u001b[0m\n",
      "\u001b[1;32mC:\\Program Files\\ArcGIS\\Pro\\Resources\\ArcPy\\arcpy\\management.py\u001b[0m in \u001b[0;36mResample\u001b[1;34m(in_raster, out_raster, cell_size, resampling_type)\u001b[0m\n\u001b[0;32m  19937\u001b[0m         \u001b[1;32mreturn\u001b[0m \u001b[0mretval\u001b[0m\u001b[1;33m\u001b[0m\u001b[1;33m\u001b[0m\u001b[0m\n\u001b[0;32m  19938\u001b[0m     \u001b[1;32mexcept\u001b[0m \u001b[0mException\u001b[0m \u001b[1;32mas\u001b[0m \u001b[0me\u001b[0m\u001b[1;33m:\u001b[0m\u001b[1;33m\u001b[0m\u001b[1;33m\u001b[0m\u001b[0m\n\u001b[1;32m> 19939\u001b[1;33m         \u001b[1;32mraise\u001b[0m \u001b[0me\u001b[0m\u001b[1;33m\u001b[0m\u001b[1;33m\u001b[0m\u001b[0m\n\u001b[0m\u001b[0;32m  19940\u001b[0m \u001b[1;33m\u001b[0m\u001b[0m\n\u001b[0;32m  19941\u001b[0m \u001b[1;33m@\u001b[0m\u001b[0mgptooldoc\u001b[0m\u001b[1;33m(\u001b[0m\u001b[1;34m'SplitRaster_management'\u001b[0m\u001b[1;33m,\u001b[0m \u001b[1;32mNone\u001b[0m\u001b[1;33m)\u001b[0m\u001b[1;33m\u001b[0m\u001b[1;33m\u001b[0m\u001b[0m\n",
      "\u001b[1;32mC:\\Program Files\\ArcGIS\\Pro\\Resources\\ArcPy\\arcpy\\management.py\u001b[0m in \u001b[0;36mResample\u001b[1;34m(in_raster, out_raster, cell_size, resampling_type)\u001b[0m\n\u001b[0;32m  19934\u001b[0m     \u001b[1;32mfrom\u001b[0m \u001b[0marcpy\u001b[0m\u001b[1;33m.\u001b[0m\u001b[0marcobjects\u001b[0m\u001b[1;33m.\u001b[0m\u001b[0marcobjectconversion\u001b[0m \u001b[1;32mimport\u001b[0m \u001b[0mconvertArcObjectToPythonObject\u001b[0m\u001b[1;33m\u001b[0m\u001b[1;33m\u001b[0m\u001b[0m\n\u001b[0;32m  19935\u001b[0m     \u001b[1;32mtry\u001b[0m\u001b[1;33m:\u001b[0m\u001b[1;33m\u001b[0m\u001b[1;33m\u001b[0m\u001b[0m\n\u001b[1;32m> 19936\u001b[1;33m         \u001b[0mretval\u001b[0m \u001b[1;33m=\u001b[0m \u001b[0mconvertArcObjectToPythonObject\u001b[0m\u001b[1;33m(\u001b[0m\u001b[0mgp\u001b[0m\u001b[1;33m.\u001b[0m\u001b[0mResample_management\u001b[0m\u001b[1;33m(\u001b[0m\u001b[1;33m*\u001b[0m\u001b[0mgp_fixargs\u001b[0m\u001b[1;33m(\u001b[0m\u001b[1;33m(\u001b[0m\u001b[0min_raster\u001b[0m\u001b[1;33m,\u001b[0m \u001b[0mout_raster\u001b[0m\u001b[1;33m,\u001b[0m \u001b[0mcell_size\u001b[0m\u001b[1;33m,\u001b[0m \u001b[0mresampling_type\u001b[0m\u001b[1;33m)\u001b[0m\u001b[1;33m,\u001b[0m \u001b[1;32mTrue\u001b[0m\u001b[1;33m)\u001b[0m\u001b[1;33m)\u001b[0m\u001b[1;33m)\u001b[0m\u001b[1;33m\u001b[0m\u001b[1;33m\u001b[0m\u001b[0m\n\u001b[0m\u001b[0;32m  19937\u001b[0m         \u001b[1;32mreturn\u001b[0m \u001b[0mretval\u001b[0m\u001b[1;33m\u001b[0m\u001b[1;33m\u001b[0m\u001b[0m\n\u001b[0;32m  19938\u001b[0m     \u001b[1;32mexcept\u001b[0m \u001b[0mException\u001b[0m \u001b[1;32mas\u001b[0m \u001b[0me\u001b[0m\u001b[1;33m:\u001b[0m\u001b[1;33m\u001b[0m\u001b[1;33m\u001b[0m\u001b[0m\n",
      "\u001b[1;32mC:\\Program Files\\ArcGIS\\Pro\\Resources\\ArcPy\\arcpy\\geoprocessing\\_base.py\u001b[0m in \u001b[0;36m<lambda>\u001b[1;34m(*args)\u001b[0m\n\u001b[0;32m    510\u001b[0m         \u001b[0mval\u001b[0m \u001b[1;33m=\u001b[0m \u001b[0mgetattr\u001b[0m\u001b[1;33m(\u001b[0m\u001b[0mself\u001b[0m\u001b[1;33m.\u001b[0m\u001b[0m_gp\u001b[0m\u001b[1;33m,\u001b[0m \u001b[0mattr\u001b[0m\u001b[1;33m)\u001b[0m\u001b[1;33m\u001b[0m\u001b[1;33m\u001b[0m\u001b[0m\n\u001b[0;32m    511\u001b[0m         \u001b[1;32mif\u001b[0m \u001b[0mcallable\u001b[0m\u001b[1;33m(\u001b[0m\u001b[0mval\u001b[0m\u001b[1;33m)\u001b[0m\u001b[1;33m:\u001b[0m\u001b[1;33m\u001b[0m\u001b[1;33m\u001b[0m\u001b[0m\n\u001b[1;32m--> 512\u001b[1;33m             \u001b[1;32mreturn\u001b[0m \u001b[1;32mlambda\u001b[0m \u001b[1;33m*\u001b[0m\u001b[0margs\u001b[0m\u001b[1;33m:\u001b[0m \u001b[0mval\u001b[0m\u001b[1;33m(\u001b[0m\u001b[1;33m*\u001b[0m\u001b[0mgp_fixargs\u001b[0m\u001b[1;33m(\u001b[0m\u001b[0margs\u001b[0m\u001b[1;33m,\u001b[0m \u001b[1;32mTrue\u001b[0m\u001b[1;33m)\u001b[0m\u001b[1;33m)\u001b[0m\u001b[1;33m\u001b[0m\u001b[1;33m\u001b[0m\u001b[0m\n\u001b[0m\u001b[0;32m    513\u001b[0m         \u001b[1;32melse\u001b[0m\u001b[1;33m:\u001b[0m\u001b[1;33m\u001b[0m\u001b[1;33m\u001b[0m\u001b[0m\n\u001b[0;32m    514\u001b[0m             \u001b[1;32mreturn\u001b[0m \u001b[0mconvertArcObjectToPythonObject\u001b[0m\u001b[1;33m(\u001b[0m\u001b[0mval\u001b[0m\u001b[1;33m)\u001b[0m\u001b[1;33m\u001b[0m\u001b[1;33m\u001b[0m\u001b[0m\n",
      "\u001b[1;31mExecuteError\u001b[0m: Failed to execute. Parameters are not valid.\nERROR 001847: Majority resample does not support floating point data type. Please choose another resample method.\nFailed to execute (Resample).\n"
     ]
    }
   ],
   "source": [
    "import arcpy\n",
    "from arcpy.sa import *\n",
    "import os\n",
    "\n",
    "# Check out the Spatial Analyst extension\n",
    "arcpy.CheckOutExtension(\"Spatial\")\n",
    "\n",
    "outputFolder = r'L:\\f02_data\\wildfires\\spatial_data\\output'\n",
    "infolder = os.path.join(outputFolder, 'BA_100m') # Burnt area where pixel values is 1 when there is a wildfire\n",
    "outfolder = os.path.join(outputFolder, 'BA_1km')\n",
    "os.makedirs(outfolder, exist_ok=True)\n",
    "\n",
    "refgrid_shp = r\"S:\\Common workspace\\ETCULS\\DATA_DELIVERABLES\\Reference\\Masks\\SDI_pending\\f02_data\\original delivery\\Grid1km_CLC_LAND_UNION_shp\\Grid1km_CLC_LAND_UNION.shp\"\n",
    "refgrid =  r'L:\\f02_data\\wildfires\\spatial_data\\input\\grid1KmLAND_v2.tif'\n",
    "\n",
    "arcpy.env.snapRaster = refgrid\n",
    "arcpy.env.workspace = infolder\n",
    "#rasters = arcpy.ListRasters(\"BA*\", \"TIF\")\n",
    "rasters = arcpy.ListRasters()\n",
    "\n",
    "# rasterize the ref grid polygon\n",
    "if not arcpy.Exists(refgrid):\n",
    "    arcpy.conversion.PolygonToRaster(refgrid_shp, \"FID\", refgrid, \"MAXIMUM_AREA\", \"NONE\", 1000, \"BUILD\")\n",
    "\n",
    "for rast in rasters[1:]:\n",
    "    print(rast)\n",
    "    output = os.path.join(outfolder,'BA_'+rast.split('.')[0][-4:] + '_1km.tif')\n",
    "    \n",
    "    if not arcpy.Exists(output):\n",
    "        filein = os.path.join(infolder,rast)\n",
    "        inRas = arcpy.Raster(filein)\n",
    "        refgrid = arcpy.Raster(refgrid)\n",
    "        \n",
    "        # compute number of fires in each 1km cell grid\n",
    "        arcpy.env.cellSize = 100\n",
    "        outZonalStats = arcpy.sa.ZonalStatistics(refgrid, \"Value\", inRas, \"SUM\", \"DATA\", \"CURRENT_SLICE\", 90, \"AUTO_DETECT\")\n",
    "        \n",
    "        ##Resample to 1km:\n",
    "        arcpy.env.cellSize = 1000\n",
    "        arcpy.env.workspace = outfolder\n",
    "        arcpy.management.Resample(outZonalStats,'BA_'+rast.split('.')[0][-4:] + '_1km.tif', \"1000 1000\", \"MAJORITY\")\n",
    "\n"
   ]
  },
  {
   "cell_type": "code",
   "execution_count": 6,
   "metadata": {},
   "outputs": [
    {
     "data": {
      "text/plain": [
       "['FIREID_2000.tif',\n",
       " 'FIREID_2001.tif',\n",
       " 'FIREID_2002.tif',\n",
       " 'FIREID_2003.tif',\n",
       " 'FIREID_2004.tif',\n",
       " 'FIREID_2005.tif',\n",
       " 'FIREID_2006.tif',\n",
       " 'FIREID_2007.tif',\n",
       " 'FIREID_2008.tif',\n",
       " 'FIREID_2009.tif',\n",
       " 'FIREID_2010.tif',\n",
       " 'FIREID_2011.tif',\n",
       " 'FIREID_2012.tif',\n",
       " 'FIREID_2013.tif',\n",
       " 'FIREID_2014.tif',\n",
       " 'FIREID_2015.tif',\n",
       " 'FIREID_2016.tif',\n",
       " 'FIREID_2017.tif',\n",
       " 'FIREID_2018.tif',\n",
       " 'FIREID_2019.tif',\n",
       " 'FIREID_2020.tif',\n",
       " 'FIREID_2021.tif',\n",
       " 'FIREID_2022.tif',\n",
       " 'FIREID_2023.tif',\n",
       " 'FIREID_2024.tif']"
      ]
     },
     "execution_count": 6,
     "metadata": {},
     "output_type": "execute_result"
    }
   ],
   "source": [
    "rasters"
   ]
  },
  {
   "cell_type": "code",
   "execution_count": 7,
   "metadata": {},
   "outputs": [
    {
     "name": "stdout",
     "output_type": "stream",
     "text": [
      "FIREID_2001.tif\n",
      "FIREID_2002.tif\n",
      "FIREID_2003.tif\n",
      "FIREID_2004.tif\n"
     ]
    },
    {
     "ename": "KeyboardInterrupt",
     "evalue": "",
     "output_type": "error",
     "traceback": [
      "\u001b[1;31m---------------------------------------------------------------------------\u001b[0m",
      "\u001b[1;31mKeyboardInterrupt\u001b[0m                         Traceback (most recent call last)",
      "\u001b[1;32mQ:\\UserTemp\\ubach\\AppData\\Local\\Temp\\4\\ipykernel_674852\\2229575651.py\u001b[0m in \u001b[0;36m<cell line: 0>\u001b[1;34m()\u001b[0m\n\u001b[0;32m     30\u001b[0m     \u001b[1;31m#path_temp = os.path.join(path_gdb,rast.split('.')[0] + '_1km')\u001b[0m\u001b[1;33m\u001b[0m\u001b[1;33m\u001b[0m\u001b[0m\n\u001b[0;32m     31\u001b[0m     \u001b[1;31m#aggr.save(path_temp)\u001b[0m\u001b[1;33m\u001b[0m\u001b[1;33m\u001b[0m\u001b[0m\n\u001b[1;32m---> 32\u001b[1;33m     \u001b[0marcpy\u001b[0m\u001b[1;33m.\u001b[0m\u001b[0mmanagement\u001b[0m\u001b[1;33m.\u001b[0m\u001b[0mCopyRaster\u001b[0m\u001b[1;33m(\u001b[0m\u001b[0maggr\u001b[0m\u001b[1;33m,\u001b[0m\u001b[0mos\u001b[0m\u001b[1;33m.\u001b[0m\u001b[0mpath\u001b[0m\u001b[1;33m.\u001b[0m\u001b[0mjoin\u001b[0m\u001b[1;33m(\u001b[0m\u001b[0moutfolder\u001b[0m\u001b[1;33m,\u001b[0m\u001b[0mrast\u001b[0m\u001b[1;33m.\u001b[0m\u001b[0msplit\u001b[0m\u001b[1;33m(\u001b[0m\u001b[1;34m'.'\u001b[0m\u001b[1;33m)\u001b[0m\u001b[1;33m[\u001b[0m\u001b[1;36m0\u001b[0m\u001b[1;33m]\u001b[0m \u001b[1;33m+\u001b[0m \u001b[1;34m'_1km.tif'\u001b[0m\u001b[1;33m)\u001b[0m\u001b[1;33m,\u001b[0m\u001b[1;34m\"DEFAULTS\"\u001b[0m\u001b[1;33m,\u001b[0m\u001b[1;34m\"0\"\u001b[0m\u001b[1;33m,\u001b[0m\u001b[1;34m\"0\"\u001b[0m\u001b[1;33m,\u001b[0m\u001b[1;34m\"\"\u001b[0m\u001b[1;33m,\u001b[0m\u001b[1;34m\"\"\u001b[0m\u001b[1;33m,\u001b[0m\u001b[1;34m\"8_BIT_UNSIGNED\"\u001b[0m\u001b[1;33m)\u001b[0m\u001b[1;33m\u001b[0m\u001b[1;33m\u001b[0m\u001b[0m\n\u001b[0m",
      "\u001b[1;32mC:\\Program Files\\ArcGIS\\Pro\\Resources\\ArcPy\\arcpy\\management.py\u001b[0m in \u001b[0;36mCopyRaster\u001b[1;34m(in_raster, out_rasterdataset, config_keyword, background_value, nodata_value, onebit_to_eightbit, colormap_to_RGB, pixel_type, scale_pixel_value, RGB_to_Colormap, format, transform, process_as_multidimensional, build_multidimensional_transpose)\u001b[0m\n\u001b[0;32m  18748\u001b[0m     \u001b[1;32mfrom\u001b[0m \u001b[0marcpy\u001b[0m\u001b[1;33m.\u001b[0m\u001b[0marcobjects\u001b[0m\u001b[1;33m.\u001b[0m\u001b[0marcobjectconversion\u001b[0m \u001b[1;32mimport\u001b[0m \u001b[0mconvertArcObjectToPythonObject\u001b[0m\u001b[1;33m\u001b[0m\u001b[1;33m\u001b[0m\u001b[0m\n\u001b[0;32m  18749\u001b[0m     \u001b[1;32mtry\u001b[0m\u001b[1;33m:\u001b[0m\u001b[1;33m\u001b[0m\u001b[1;33m\u001b[0m\u001b[0m\n\u001b[1;32m> 18750\u001b[1;33m         \u001b[0mretval\u001b[0m \u001b[1;33m=\u001b[0m \u001b[0mconvertArcObjectToPythonObject\u001b[0m\u001b[1;33m(\u001b[0m\u001b[0mgp\u001b[0m\u001b[1;33m.\u001b[0m\u001b[0mCopyRaster_management\u001b[0m\u001b[1;33m(\u001b[0m\u001b[1;33m*\u001b[0m\u001b[0mgp_fixargs\u001b[0m\u001b[1;33m(\u001b[0m\u001b[1;33m(\u001b[0m\u001b[0min_raster\u001b[0m\u001b[1;33m,\u001b[0m \u001b[0mout_rasterdataset\u001b[0m\u001b[1;33m,\u001b[0m \u001b[0mconfig_keyword\u001b[0m\u001b[1;33m,\u001b[0m \u001b[0mbackground_value\u001b[0m\u001b[1;33m,\u001b[0m \u001b[0mnodata_value\u001b[0m\u001b[1;33m,\u001b[0m \u001b[0monebit_to_eightbit\u001b[0m\u001b[1;33m,\u001b[0m \u001b[0mcolormap_to_RGB\u001b[0m\u001b[1;33m,\u001b[0m \u001b[0mpixel_type\u001b[0m\u001b[1;33m,\u001b[0m \u001b[0mscale_pixel_value\u001b[0m\u001b[1;33m,\u001b[0m \u001b[0mRGB_to_Colormap\u001b[0m\u001b[1;33m,\u001b[0m \u001b[0mformat\u001b[0m\u001b[1;33m,\u001b[0m \u001b[0mtransform\u001b[0m\u001b[1;33m,\u001b[0m \u001b[0mprocess_as_multidimensional\u001b[0m\u001b[1;33m,\u001b[0m \u001b[0mbuild_multidimensional_transpose\u001b[0m\u001b[1;33m)\u001b[0m\u001b[1;33m,\u001b[0m \u001b[1;32mTrue\u001b[0m\u001b[1;33m)\u001b[0m\u001b[1;33m)\u001b[0m\u001b[1;33m)\u001b[0m\u001b[1;33m\u001b[0m\u001b[1;33m\u001b[0m\u001b[0m\n\u001b[0m\u001b[0;32m  18751\u001b[0m         \u001b[1;32mreturn\u001b[0m \u001b[0mretval\u001b[0m\u001b[1;33m\u001b[0m\u001b[1;33m\u001b[0m\u001b[0m\n\u001b[0;32m  18752\u001b[0m     \u001b[1;32mexcept\u001b[0m \u001b[0mException\u001b[0m \u001b[1;32mas\u001b[0m \u001b[0me\u001b[0m\u001b[1;33m:\u001b[0m\u001b[1;33m\u001b[0m\u001b[1;33m\u001b[0m\u001b[0m\n",
      "\u001b[1;32mC:\\Program Files\\ArcGIS\\Pro\\Resources\\ArcPy\\arcpy\\geoprocessing\\_base.py\u001b[0m in \u001b[0;36m<lambda>\u001b[1;34m(*args)\u001b[0m\n\u001b[0;32m    510\u001b[0m         \u001b[0mval\u001b[0m \u001b[1;33m=\u001b[0m \u001b[0mgetattr\u001b[0m\u001b[1;33m(\u001b[0m\u001b[0mself\u001b[0m\u001b[1;33m.\u001b[0m\u001b[0m_gp\u001b[0m\u001b[1;33m,\u001b[0m \u001b[0mattr\u001b[0m\u001b[1;33m)\u001b[0m\u001b[1;33m\u001b[0m\u001b[1;33m\u001b[0m\u001b[0m\n\u001b[0;32m    511\u001b[0m         \u001b[1;32mif\u001b[0m \u001b[0mcallable\u001b[0m\u001b[1;33m(\u001b[0m\u001b[0mval\u001b[0m\u001b[1;33m)\u001b[0m\u001b[1;33m:\u001b[0m\u001b[1;33m\u001b[0m\u001b[1;33m\u001b[0m\u001b[0m\n\u001b[1;32m--> 512\u001b[1;33m             \u001b[1;32mreturn\u001b[0m \u001b[1;32mlambda\u001b[0m \u001b[1;33m*\u001b[0m\u001b[0margs\u001b[0m\u001b[1;33m:\u001b[0m \u001b[0mval\u001b[0m\u001b[1;33m(\u001b[0m\u001b[1;33m*\u001b[0m\u001b[0mgp_fixargs\u001b[0m\u001b[1;33m(\u001b[0m\u001b[0margs\u001b[0m\u001b[1;33m,\u001b[0m \u001b[1;32mTrue\u001b[0m\u001b[1;33m)\u001b[0m\u001b[1;33m)\u001b[0m\u001b[1;33m\u001b[0m\u001b[1;33m\u001b[0m\u001b[0m\n\u001b[0m\u001b[0;32m    513\u001b[0m         \u001b[1;32melse\u001b[0m\u001b[1;33m:\u001b[0m\u001b[1;33m\u001b[0m\u001b[1;33m\u001b[0m\u001b[0m\n\u001b[0;32m    514\u001b[0m             \u001b[1;32mreturn\u001b[0m \u001b[0mconvertArcObjectToPythonObject\u001b[0m\u001b[1;33m(\u001b[0m\u001b[0mval\u001b[0m\u001b[1;33m)\u001b[0m\u001b[1;33m\u001b[0m\u001b[1;33m\u001b[0m\u001b[0m\n",
      "\u001b[1;31mKeyboardInterrupt\u001b[0m: "
     ]
    }
   ],
   "source": [
    "import arcpy\n",
    "from arcpy.sa import *\n",
    "import os\n",
    "\n",
    "# Check out the Spatial Analyst extension\n",
    "arcpy.CheckOutExtension(\"Spatial\")\n",
    "\n",
    "outputFolder = r'L:\\f02_data\\wildfires\\spatial_data\\output'\n",
    "infolder = os.path.join(outputFolder, 'BA_100m') # Burnt area where pixel values is 1 when there is a wildfire\n",
    "outfolder = os.path.join(outputFolder, 'BA_1km')\n",
    "os.makedirs(outfolder, exist_ok=True)\n",
    "\n",
    "refgrid_shp = r\"S:\\Common workspace\\ETCULS\\DATA_DELIVERABLES\\Reference\\Masks\\SDI_pending\\f02_data\\original delivery\\Grid1km_CLC_LAND_UNION_shp\\Grid1km_CLC_LAND_UNION.shp\"\n",
    "refgrid =  r'L:\\f02_data\\wildfires\\spatial_data\\input\\grid1KmLAND_v2.tif'\n",
    "\n",
    "arcpy.env.snapRaster = refgrid\n",
    "arcpy.env.workspace = infolder\n",
    "#rasters = arcpy.ListRasters(\"BA*\", \"TIF\")\n",
    "rasters = arcpy.ListRasters()\n",
    "\n",
    "# rasterize the ref grid polygon\n",
    "if not arcpy.Exists(refgrid):\n",
    "    arcpy.conversion.PolygonToRaster(refgrid_shp, \"FID\", refgrid, \"MAXIMUM_AREA\", \"NONE\", 1000, \"BUILD\")\n",
    "for rast in rasters[1:]:\n",
    "    print(rast)\n",
    "    filein = os.path.join(infolder,rast)\n",
    "    inRas = arcpy.Raster(filein)\n",
    "    mk1 = Con(~IsNull(inRas), 1)\n",
    "    aggr = arcpy.sa.Aggregate(mk1, 10, \"SUM\", \"EXPAND\", \"DATA\"); \n",
    "    #path_temp = os.path.join(path_gdb,rast.split('.')[0] + '_1km')\n",
    "    #aggr.save(path_temp)\n",
    "    arcpy.management.CopyRaster(aggr,os.path.join(outfolder,rast.split('.')[0] + '_1km.tif'),\"DEFAULTS\",\"0\",\"0\",\"\",\"\",\"8_BIT_UNSIGNED\")\n"
   ]
  },
  {
   "cell_type": "code",
   "execution_count": 8,
   "metadata": {},
   "outputs": [
    {
     "data": {
      "text/plain": [
       "249"
      ]
     },
     "execution_count": 8,
     "metadata": {},
     "output_type": "execute_result"
    }
   ],
   "source": [
    "with arcpy.EnvManager(scratchWorkspace=r\"L:\\f02_data\\wildfires\\spatial_data\\devdata\"):\n",
    "    out_raster = arcpy.sa.Aggregate(\n",
    "        in_raster=\"FIREID_2001.tif\",\n",
    "        cell_factor=10,\n",
    "        aggregation_type=\"SUM\",\n",
    "        extent_handling=\"EXPAND\",\n",
    "        ignore_nodata=\"DATA\"\n",
    "    )\n",
    "    out_raster.save(r\"L:\\f02_data\\wildfires\\spatial_data\\devdata\\BA2001_agg_tt.tif\")"
   ]
  },
  {
   "cell_type": "code",
   "execution_count": 17,
   "metadata": {},
   "outputs": [
    {
     "name": "stdout",
     "output_type": "stream",
     "text": [
      "FIREID_2001.tif\n"
     ]
    }
   ],
   "source": [
    "import arcpy\n",
    "from arcpy.sa import *\n",
    "import os\n",
    "\n",
    "# Check out the Spatial Analyst extension\n",
    "arcpy.CheckOutExtension(\"Spatial\")\n",
    "\n",
    "outputFolder = r'L:\\f02_data\\wildfires\\spatial_data\\output'\n",
    "infolder = os.path.join(outputFolder, 'BA_100m') # Burnt area where pixel values is 1 when there is a wildfire\n",
    "outfolder = os.path.join(outputFolder, 'BA_1km_v2')\n",
    "os.makedirs(outfolder, exist_ok=True)\n",
    "\n",
    "arcpy.env.workspace = infolder\n",
    "rasters = arcpy.ListRasters()\n",
    "\n",
    "for rast in rasters[1:2]:\n",
    "    print(rast)\n",
    "    filein = os.path.join(infolder,rast)\n",
    "    inRas = arcpy.Raster(filein)\n",
    "    arcpy.env.extent = inRas\n",
    "\n",
    "    with arcpy.EnvManager(scratchWorkspace=r\"L:\\f02_data\\wildfires\\spatial_data\\output\"):\n",
    "        out_raster = arcpy.sa.Aggregate(\n",
    "            in_raster=inRas,\n",
    "            cell_factor=10.0,\n",
    "            aggregation_type=\"SUM\",\n",
    "            extent_handling=\"EXPAND\",\n",
    "            ignore_nodata=\"DATA\"\n",
    "        )\n",
    "        out_raster.save(os.path.join(outfolder,'BA'+ rast.split('_')[1].split('.')[0]+ '_1km_tt4.tif'))\n"
   ]
  },
  {
   "cell_type": "code",
   "execution_count": null,
   "metadata": {},
   "outputs": [],
   "source": [
    "import arcpy\n",
    "from arcpy.sa import *\n",
    "import os\n",
    "\n",
    "# Check out the Spatial Analyst extension\n",
    "arcpy.CheckOutExtension(\"Spatial\")\n",
    "\n",
    "outputFolder = r'L:\\f02_data\\wildfires\\spatial_data\\output'\n",
    "infolder = os.path.join(outputFolder, 'BA_100m') # Burnt area where pixel values is 1 when there is a wildfire\n",
    "outfolder = os.path.join(outputFolder, 'BA_1km_v2')\n",
    "os.makedirs(outfolder, exist_ok=True)\n",
    "\n",
    "arcpy.env.workspace = infolder\n",
    "rasters = arcpy.ListRasters()\n",
    "\n",
    "for rast in rasters:\n",
    "    print(rast)\n",
    "    filein = os.path.join(infolder,rast)\n",
    "    inRas = arcpy.Raster(filein)\n",
    "    arcpy.env.extent = inRas\n",
    "\n",
    "    with arcpy.EnvManager(scratchWorkspace=r\"L:\\f02_data\\wildfires\\spatial_data\\output\"):\n",
    "        out_raster = arcpy.sa.Aggregate(\n",
    "            in_raster=inRas,\n",
    "            cell_factor=10,\n",
    "            aggregation_type=\"SUM\",\n",
    "            extent_handling=\"EXPAND\",\n",
    "            ignore_nodata=\"DATA\"\n",
    "        )\n",
    "        out_raster.save(os.path.join(outfolder,'BA'+ rast.split('_')[1].split('.')[0]+ '_1km.tif'))"
   ]
  },
  {
   "cell_type": "code",
   "execution_count": null,
   "metadata": {},
   "outputs": [],
   "source": [
    "import arcpy\n",
    "from arcpy.sa import *\n",
    "import os\n",
    "\n",
    "# Check out the Spatial Analyst extension\n",
    "arcpy.CheckOutExtension(\"Spatial\")\n",
    "\n",
    "outputFolder = r'L:\\f02_data\\wildfires\\spatial_data\\output'\n",
    "infolder = os.path.join(outputFolder, 'NrFires_1km') # Burnt area where pixel values is 1 when there is a wildfire\n",
    "outfolder = os.path.join(outputFolder, 'NFires_1km_aggr')\n",
    "os.makedirs(outfolder, exist_ok=True)\n",
    "\n",
    "arcpy.env.workspace = infolder\n",
    "rasters = arcpy.ListRasters()\n",
    "\n",
    "for rast in rasters:\n",
    "    print(rast)\n",
    "    filein = os.path.join(infolder,rast)\n",
    "    inRas = arcpy.Raster(filein)\n",
    "    arcpy.env.extent = inRas\n",
    "\n",
    "    with arcpy.EnvManager(scratchWorkspace=r\"L:\\f02_data\\wildfires\\spatial_data\\output\"):\n",
    "        outraster_path = os.path.join(outfolder,'NFires'+ rast.split('_')[2].split('.')[0]+ '_1km.tif')\n",
    "        if not os.path.exists(outraster_path):\n",
    "            out_raster = arcpy.sa.Aggregate(\n",
    "                in_raster=inRas,\n",
    "                cell_factor=10,\n",
    "                aggregation_type=\"MAXIMUM\",\n",
    "                extent_handling=\"EXPAND\",\n",
    "                ignore_nodata=\"DATA\"\n",
    "            )\n",
    "            out_raster.save(outraster_path)"
   ]
  },
  {
   "cell_type": "code",
   "execution_count": 18,
   "metadata": {},
   "outputs": [
    {
     "name": "stdout",
     "output_type": "stream",
     "text": [
      "NrFires_1km_2000.tif\n",
      "NrFires_1km_2001.tif\n",
      "NrFires_1km_2002.tif\n",
      "NrFires_1km_2003.tif\n",
      "NrFires_1km_2004.tif\n",
      "NrFires_1km_2005.tif\n",
      "NrFires_1km_2006.tif\n",
      "NrFires_1km_2007.tif\n",
      "NrFires_1km_2008.tif\n",
      "NrFires_1km_2009.tif\n",
      "NrFires_1km_2010.tif\n",
      "NrFires_1km_2011.tif\n",
      "NrFires_1km_2012.tif\n",
      "NrFires_1km_2013.tif\n",
      "NrFires_1km_2014.tif\n",
      "NrFires_1km_2015.tif\n",
      "NrFires_1km_2016.tif\n",
      "NrFires_1km_2017.tif\n",
      "NrFires_1km_2018.tif\n",
      "NrFires_1km_2019.tif\n",
      "NrFires_1km_2020.tif\n",
      "NrFires_1km_2021.tif\n",
      "NrFires_1km_2022.tif\n",
      "NrFires_1km_2023.tif\n",
      "NrFires_1km_2024.tif\n"
     ]
    }
   ],
   "source": [
    "import arcpy\n",
    "from arcpy.sa import *\n",
    "import os\n",
    "\n",
    "# Check out the Spatial Analyst extension\n",
    "arcpy.CheckOutExtension(\"Spatial\")\n",
    "\n",
    "outputFolder = r'L:\\f02_data\\wildfires\\spatial_data\\output'\n",
    "infolder = os.path.join(outputFolder, 'NrFires_1km') # Burnt area where pixel values is 1 when there is a wildfire\n",
    "outfolder = os.path.join(outputFolder, 'NFires_1km_aggr')\n",
    "os.makedirs(outfolder, exist_ok=True)\n",
    "\n",
    "arcpy.env.workspace = infolder\n",
    "rasters = arcpy.ListRasters()\n",
    "\n",
    "for rast in rasters:\n",
    "    print(rast)"
   ]
  },
  {
   "cell_type": "code",
   "execution_count": 20,
   "metadata": {},
   "outputs": [
    {
     "data": {
      "text/plain": [
       "'2024'"
      ]
     },
     "execution_count": 20,
     "metadata": {},
     "output_type": "execute_result"
    }
   ],
   "source": [
    "rast.split('_')[2].split('.')[0]"
   ]
  }
 ],
 "metadata": {
  "kernelspec": {
   "display_name": "geospatial_ETC_DI_v4",
   "language": "python",
   "name": "python3"
  },
  "language_info": {
   "codemirror_mode": {
    "name": "ipython",
    "version": 3
   },
   "file_extension": ".py",
   "mimetype": "text/x-python",
   "name": "python",
   "nbconvert_exporter": "python",
   "pygments_lexer": "ipython3",
   "version": "3.11.8"
  }
 },
 "nbformat": 4,
 "nbformat_minor": 2
}
