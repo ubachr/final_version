{
 "cells": [
  {
   "cell_type": "code",
   "execution_count": 2,
   "metadata": {},
   "outputs": [
    {
     "name": "stderr",
     "output_type": "stream",
     "text": [
      "c:\\Users\\ubach\\.conda\\envs\\geospatial_ETC_DI_v4\\lib\\site-packages\\geopandas\\_compat.py:123: UserWarning: The Shapely GEOS version (3.11.2-CAPI-1.17.2) is incompatible with the GEOS version PyGEOS was compiled with (3.10.4-CAPI-1.16.2). Conversions between both will be slow.\n",
      "  warnings.warn(\n",
      "Q:\\UserTemp\\ubach\\AppData\\Local\\Temp\\4\\ipykernel_27256\\3466570486.py:2: UserWarning: Shapely 2.0 is installed, but because PyGEOS is also installed, GeoPandas will still use PyGEOS by default for now. To force to use and test Shapely 2.0, you have to set the environment variable USE_PYGEOS=0. You can do this before starting the Python process, or in your code before importing geopandas:\n",
      "\n",
      "import os\n",
      "os.environ['USE_PYGEOS'] = '0'\n",
      "import geopandas\n",
      "\n",
      "In a future release, GeoPandas will switch to using Shapely by default. If you are using PyGEOS directly (calling PyGEOS functions on geometries from GeoPandas), this will then stop working and you are encouraged to migrate from PyGEOS to Shapely 2.0 (https://shapely.readthedocs.io/en/latest/migration_pygeos.html).\n",
      "  import geopandas as gpd\n"
     ]
    }
   ],
   "source": [
    "#import required libraries\n",
    "import geopandas as gpd\n",
    "import xarray as xr\n",
    "import pandas as pd\n",
    "import os, glob\n",
    "import numpy as np\n",
    "\n",
    "from matplotlib import pyplot as plt\n",
    "import matplotlib.colors\n",
    "from matplotlib.colors import LogNorm\n",
    "import cartopy.crs as ccrs\n",
    "from cartopy.mpl.gridliner import LONGITUDE_FORMATTER, LATITUDE_FORMATTER\n",
    "import cartopy.feature as cfeature\n",
    "import matplotlib.cm as cm\n",
    "\n",
    "import rioxarray as rio\n",
    "import rasterio\n",
    "from rasterio.crs import CRS\n",
    "from rasterio.enums import Resampling\n",
    "from rasterio.warp import reproject\n",
    "from rasterio.windows import Window, transform as rio_window_transform\n",
    "from rasterio.windows import from_bounds\n",
    "from rasterio.transform import Affine\n",
    "from rasterio.features import rasterize\n",
    "from rasterio.transform import from_origin\n",
    "from rasterio.features import rasterize\n",
    "from shapely.geometry import box\n",
    "\n",
    "import dask\n",
    "import dask.array as da\n",
    "from dask.delayed import delayed\n",
    "\n",
    "from osgeo import gdal, ogr, osr\n",
    "\n",
    "import seaborn as sns\n",
    "import zipfile"
   ]
  },
  {
   "cell_type": "code",
   "execution_count": 3,
   "metadata": {},
   "outputs": [],
   "source": [
    "# Path to data folders\n",
    "project_f = r'L:\\f02_data\\wildfires\\spatial_data'\n",
    "\n",
    "# Create output folder structure\n",
    "outfolder =  os.path.join(project_f, 'output')\n",
    "os.makedirs(outfolder, exist_ok=True)\n",
    "\n",
    "outFIREID_folder =  os.path.join(project_f, 'output', 'FIRE_ID')\n",
    "os.makedirs(outFIREID_folder, exist_ok=True)\n",
    "\n",
    "outFIREYEARDOY_folder =  os.path.join(project_f, 'output', 'FIRE_YEARDOY')\n",
    "os.makedirs(outFIREYEARDOY_folder, exist_ok=True)"
   ]
  },
  {
   "cell_type": "code",
   "execution_count": 4,
   "metadata": {},
   "outputs": [
    {
     "name": "stdout",
     "output_type": "stream",
     "text": [
      "New CRS: EPSG:3035\n"
     ]
    }
   ],
   "source": [
    "# load wildfires data\n",
    "effis_path =  os.path.join(project_f, 'input', 'effis_rawdata_20240402', 'modis.ba.poly.shp')\n",
    "effis = gpd.read_file(effis_path)\n",
    "\n",
    "# read effis id as an integer\n",
    "effis['id'] = effis['id'].astype(int)\n",
    "\n",
    "# Convert the column containing dates to datetime format\n",
    "effis['date'] = pd.to_datetime(effis['FIREDATE'])\n",
    "\n",
    "# Change the CRS to EPSG:3035\n",
    "effis = effis.to_crs(epsg=3035)\n",
    "\n",
    "# Verify the new CRS\n",
    "print(\"New CRS:\", effis.crs)"
   ]
  },
  {
   "cell_type": "code",
   "execution_count": 6,
   "metadata": {},
   "outputs": [],
   "source": [
    "effis2001 = effis.query('Year==2001')"
   ]
  },
  {
   "cell_type": "code",
   "execution_count": 8,
   "metadata": {},
   "outputs": [
    {
     "data": {
      "text/html": [
       "<div>\n",
       "<style scoped>\n",
       "    .dataframe tbody tr th:only-of-type {\n",
       "        vertical-align: middle;\n",
       "    }\n",
       "\n",
       "    .dataframe tbody tr th {\n",
       "        vertical-align: top;\n",
       "    }\n",
       "\n",
       "    .dataframe thead th {\n",
       "        text-align: right;\n",
       "    }\n",
       "</style>\n",
       "<table border=\"1\" class=\"dataframe\">\n",
       "  <thead>\n",
       "    <tr style=\"text-align: right;\">\n",
       "      <th></th>\n",
       "      <th>id</th>\n",
       "      <th>FIREDATE</th>\n",
       "      <th>LASTUPDATE</th>\n",
       "      <th>COUNTRY</th>\n",
       "      <th>PROVINCE</th>\n",
       "      <th>COMMUNE</th>\n",
       "      <th>AREA_HA</th>\n",
       "      <th>BROADLEA</th>\n",
       "      <th>CONIFER</th>\n",
       "      <th>MIXED</th>\n",
       "      <th>...</th>\n",
       "      <th>OTHERNATLC</th>\n",
       "      <th>AGRIAREAS</th>\n",
       "      <th>ARTIFSURF</th>\n",
       "      <th>OTHERLC</th>\n",
       "      <th>PERCNA2K</th>\n",
       "      <th>CLASS</th>\n",
       "      <th>Year</th>\n",
       "      <th>Month</th>\n",
       "      <th>geometry</th>\n",
       "      <th>date</th>\n",
       "    </tr>\n",
       "  </thead>\n",
       "  <tbody>\n",
       "    <tr>\n",
       "      <th>3567</th>\n",
       "      <td>178883</td>\n",
       "      <td>2001-12-16 00:00:00</td>\n",
       "      <td>2001-12-17 00:00:00</td>\n",
       "      <td>ES</td>\n",
       "      <td>Ourense</td>\n",
       "      <td>Laza</td>\n",
       "      <td>248</td>\n",
       "      <td>0</td>\n",
       "      <td>0</td>\n",
       "      <td>0</td>\n",
       "      <td>...</td>\n",
       "      <td>73.09236947788229</td>\n",
       "      <td>21.28514056224045</td>\n",
       "      <td>0</td>\n",
       "      <td>0</td>\n",
       "      <td>0</td>\n",
       "      <td>FireSeason</td>\n",
       "      <td>2001</td>\n",
       "      <td>12</td>\n",
       "      <td>POLYGON ((2889155.230 2278644.139, 2890216.352...</td>\n",
       "      <td>2001-12-16</td>\n",
       "    </tr>\n",
       "  </tbody>\n",
       "</table>\n",
       "<p>1 rows × 22 columns</p>\n",
       "</div>"
      ],
      "text/plain": [
       "          id             FIREDATE           LASTUPDATE COUNTRY PROVINCE  \\\n",
       "3567  178883  2001-12-16 00:00:00  2001-12-17 00:00:00      ES  Ourense   \n",
       "\n",
       "     COMMUNE AREA_HA BROADLEA CONIFER MIXED  ...         OTHERNATLC  \\\n",
       "3567    Laza     248        0       0     0  ...  73.09236947788229   \n",
       "\n",
       "              AGRIAREAS ARTIFSURF OTHERLC PERCNA2K       CLASS  Year Month  \\\n",
       "3567  21.28514056224045         0       0        0  FireSeason  2001    12   \n",
       "\n",
       "                                               geometry       date  \n",
       "3567  POLYGON ((2889155.230 2278644.139, 2890216.352... 2001-12-16  \n",
       "\n",
       "[1 rows x 22 columns]"
      ]
     },
     "execution_count": 8,
     "metadata": {},
     "output_type": "execute_result"
    }
   ],
   "source": [
    "effis2001.query('id==178883')"
   ]
  }
 ],
 "metadata": {
  "kernelspec": {
   "display_name": "geospatial_ETC_DI_v4",
   "language": "python",
   "name": "python3"
  },
  "language_info": {
   "codemirror_mode": {
    "name": "ipython",
    "version": 3
   },
   "file_extension": ".py",
   "mimetype": "text/x-python",
   "name": "python",
   "nbconvert_exporter": "python",
   "pygments_lexer": "ipython3",
   "version": "3.9.15"
  }
 },
 "nbformat": 4,
 "nbformat_minor": 2
}
