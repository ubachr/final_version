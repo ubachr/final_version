{
 "cells": [
  {
   "cell_type": "markdown",
   "id": "fc4c9c7a",
   "metadata": {},
   "source": [
    "Script to process CAMS emission from burnt CO2 data to transform raw grib files (daily values) to annual Tn of burnt CO2 tiff files\n",
    "STEPS:\n",
    "1. Load raw grib files for each year\n",
    "2. Conversion of units from kg/m2s to annual Tn of burnt CO2\n",
    "3. Align and reproject from 4326 to 3035\n",
    "4. Rescale to 10km grid resolution"
   ]
  },
  {
   "cell_type": "code",
   "execution_count": 2,
   "id": "eae319e0",
   "metadata": {},
   "outputs": [],
   "source": [
    "import xarray as xr\n",
    "import pandas as pd\n",
    "import os, glob\n",
    "import numpy as np\n",
    "import cfgrib\n",
    "\n",
    "from matplotlib import pyplot as plt\n",
    "import matplotlib.colors\n",
    "from matplotlib.colors import LogNorm\n",
    "import cartopy.crs as ccrs\n",
    "from cartopy.mpl.gridliner import LONGITUDE_FORMATTER, LATITUDE_FORMATTER\n",
    "import cartopy.feature as cfeature\n",
    "import matplotlib.cm as cm\n",
    "\n",
    "import rioxarray as rio\n",
    "import rasterio\n",
    "from rasterio.crs import CRS\n",
    "from rasterio.enums import Resampling\n",
    "from rasterio.warp import reproject\n",
    "\n",
    "from osgeo import gdal, ogr, osr"
   ]
  },
  {
   "cell_type": "code",
   "execution_count": 10,
   "id": "6045284a",
   "metadata": {},
   "outputs": [
    {
     "name": "stdout",
     "output_type": "stream",
     "text": [
      "running year 2004\n",
      "running year 2005\n",
      "running year 2006\n",
      "running year 2007\n",
      "running year 2008\n",
      "running year 2009\n",
      "running year 2010\n",
      "running year 2011\n",
      "running year 2012\n",
      "running year 2013\n",
      "running year 2014\n",
      "running year 2015\n",
      "running year 2016\n",
      "running year 2017\n",
      "running year 2018\n",
      "running year 2019\n",
      "running year 2020\n",
      "running year 2021\n",
      "running year 2022\n"
     ]
    }
   ],
   "source": [
    "# list of grib files in the input folder\n",
    "infiles = glob.glob('./Data/rawdata/burntCO2/*.grib', recursive = True)\n",
    "for file in infiles:\n",
    "    year = file.split('\\\\')[-1].split('.')[0].split('_')[1]\n",
    "    outfile = './Data/output/co2fire{}_Tnyear_3035.tif'.format(year)\n",
    "    \n",
    "    if not os.path.exists(outfile):   \n",
    "        print('running year {}'.format(year))\n",
    "\n",
    "        # open dataset\n",
    "        ds = xr.open_dataset(file, engine='cfgrib')\n",
    "\n",
    "        # sum total burnt carbon in a given year\n",
    "        csum = ds.co2fire.sum(dim = \"time\") \n",
    "\n",
    "        # Conversion from  kg m**-2 s**-1 to Megatonnes of Carbon burnt in a year\n",
    "        # 1 day = 86400 s\n",
    "        # 1 pixel = 10000*10000 m2 (final output resolution)\n",
    "        # 1000 kg = 1 Tn  \n",
    "        csum_Tn = csum * 8640000000 # conversion from kg/m2s to annual Tn of burnt carbon \n",
    "        ## csum_Mt = csum * 8640 # conversion from kg/m2s to annual Mt of burnt carbon \n",
    "\n",
    "        # create temp tif\n",
    "        csum_tif = csum_Tn.fillna(-999) # fill with no data value '-999'\n",
    "        csum_tif.rio.write_crs(\"epsg:4326\") # set crs\n",
    "        tempfile = './Data/tempCO2/co2fire{}_Tnyear_4326.tif'.format(year)\n",
    "        csum_tif.rio.to_raster(tempfile, compress='LZW')\n",
    "\n",
    "        # align file and reproject to LAEA\n",
    "        source = gdal.Open(tempfile)\n",
    "        xmin = round(csum_tif.rio.bounds()[0]/10000)*10000\n",
    "        ymin = round(csum_tif.rio.bounds()[1]/10000)*10000\n",
    "        xmax = round(csum_tif.rio.bounds()[2]/10000)*10000\n",
    "        ymax = round(csum_tif.rio.bounds()[3]/10000)*10000\n",
    "\n",
    "        gdal.Warp(outfile, source, format = 'GTiff',\n",
    "                  xRes=10000, yRes=10000, \n",
    "                  outputBounds = [xmin, ymin, xmax, ymax], \n",
    "                  targetAlignedPixels=True, dstNodata = -9999,\n",
    "                  srcSRS='EPSG:4326', dstSRS = 'EPSG:3035',\n",
    "                  outputType = gdal.GDT_UInt32,\n",
    "                  resampleAlg = gdal.GRIORA_Bilinear)\n",
    "    \n",
    "        ds.close()"
   ]
  },
  {
   "cell_type": "code",
   "execution_count": 26,
   "id": "2a4724cd",
   "metadata": {},
   "outputs": [
    {
     "data": {
      "image/png": "[encoded data removed]",
      "text/plain": [
       "<Figure size 432x288 with 1 Axes>"
      ]
     },
     "metadata": {
      "needs_background": "light"
     },
     "output_type": "display_data"
    }
   ],
   "source": [
    "from matplotlib import pyplot\n",
    "\n",
    "# list of grib files in the input folder\n",
    "infiles = glob.glob('./Data/rawdata/burntCO2/*.grib', recursive = True)\n",
    "for file in infiles[:1]:\n",
    "    year = file.split('\\\\')[-1].split('.')[0].split('_')[1]\n",
    "    outfile = './Data/output/co2fire{}_Tnyear_3035.tif'.format(year)\n",
    "\n",
    "    src = rasterio.open(outfile)\n",
    "    array = src.read(1)\n",
    "    pyplot.imshow(array, cmap='gist_yarg')\n",
    "    pyplot.show()\n",
    "    array.min()\n",
    "    \n",
    "\n",
    "#raster[raster >= 13776] = 0\n",
    "#raster"
   ]
  },
  {
   "cell_type": "code",
   "execution_count": 14,
   "id": "6430b465",
   "metadata": {},
   "outputs": [
    {
     "data": {
      "text/plain": [
       "698866"
      ]
     },
     "execution_count": 14,
     "metadata": {},
     "output_type": "execute_result"
    }
   ],
   "source": [
    "array.max()"
   ]
  },
  {
   "cell_type": "code",
   "execution_count": 13,
   "id": "94a875fa",
   "metadata": {},
   "outputs": [
    {
     "data": {
      "text/plain": [
       "0"
      ]
     },
     "execution_count": 13,
     "metadata": {},
     "output_type": "execute_result"
    }
   ],
   "source": [
    "array.min()"
   ]
  }
 ],
 "metadata": {
  "kernelspec": {
   "display_name": "Python 3 (ipykernel)",
   "language": "python",
   "name": "python3"
  },
  "language_info": {
   "codemirror_mode": {
    "name": "ipython",
    "version": 3
   },
   "file_extension": ".py",
   "mimetype": "text/x-python",
   "name": "python",
   "nbconvert_exporter": "python",
   "pygments_lexer": "ipython3",
   "version": "3.10.4"
  },
  "varInspector": {
   "cols": {
    "lenName": 16,
    "lenType": 16,
    "lenVar": 40
   },
   "kernels_config": {
    "python": {
     "delete_cmd_postfix": "",
     "delete_cmd_prefix": "del ",
     "library": "var_list.py",
     "varRefreshCmd": "print(var_dic_list())"
    },
    "r": {
     "delete_cmd_postfix": ") ",
     "delete_cmd_prefix": "rm(",
     "library": "var_list.r",
     "varRefreshCmd": "cat(var_dic_list()) "
    }
   },
   "types_to_exclude": [
    "module",
    "function",
    "builtin_function_or_method",
    "instance",
    "_Feature"
   ],
   "window_display": false
  }
 },
 "nbformat": 4,
 "nbformat_minor": 5
}
