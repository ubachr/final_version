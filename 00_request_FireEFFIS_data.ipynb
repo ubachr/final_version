{
 "cells": [
  {
   "cell_type": "code",
   "execution_count": 26,
   "metadata": {},
   "outputs": [],
   "source": [
    "## Load required libraries\n",
    "import requests\n",
    "import shutil\n",
    "from datetime import datetime\n",
    "from pathlib import Path\n",
    "import zipfile\n",
    "import geopandas as gpd\n",
    "import os\n",
    "import pandas as pd"
   ]
  },
  {
   "cell_type": "markdown",
   "metadata": {},
   "source": [
    "1 Request data from EFFIS database "
   ]
  },
  {
   "cell_type": "code",
   "execution_count": 4,
   "metadata": {},
   "outputs": [
    {
     "name": "stdout",
     "output_type": "stream",
     "text": [
      "Dataset downloaded and saved to L:\\f02_data\\wildfires\\spatial_data\\input\\effis_rawdata_20240109.zip\n"
     ]
    }
   ],
   "source": [
    "# Download data from EFFIS database\n",
    "\n",
    "# Specify the URL\n",
    "url = \"https://maps.wild-fire.eu/effis?service=WFS&request=getfeature&typename=ms:modis.ba.poly&version=1.1.0&outputformat=SHAPEZIP\"\n",
    "\n",
    "# Specify the folder to save the downloaded file\n",
    "input_folder = Path(\"L:/f02_data/wildfires/spatial_data/input\")\n",
    "\n",
    "# Create the folder if it doesn't exist\n",
    "input_folder.mkdir(parents=True, exist_ok=True)\n",
    "\n",
    "# Get the current date and time\n",
    "current_datetime = datetime.now().strftime(\"%Y%m%d\")\n",
    "\n",
    "# Make the GET request\n",
    "response = requests.get(url, stream=True)\n",
    "\n",
    "# Check if the request was successful (status code 200)\n",
    "if response.status_code == 200:\n",
    "    # Specify the output file path with the current date and time\n",
    "    output_file_path = input_folder / f\"effis_rawdata_{current_datetime}.zip\"\n",
    "\n",
    "    # Save the content to a file\n",
    "    with open(output_file_path, 'wb') as f:\n",
    "        shutil.copyfileobj(response.raw, f)\n",
    "\n",
    "    # Print a message indicating success\n",
    "    print(f\"Dataset downloaded and saved to {output_file_path}\")\n",
    "else:\n",
    "    # Print an error message if the request was not successful\n",
    "    print(f\"Error: Unable to download dataset. Status code {response.status_code}\")"
   ]
  },
  {
   "cell_type": "markdown",
   "metadata": {},
   "source": [
    "2 Prepare data for processing"
   ]
  },
  {
   "cell_type": "code",
   "execution_count": 9,
   "metadata": {},
   "outputs": [
    {
     "name": "stdout",
     "output_type": "stream",
     "text": [
      "ZIP file extracted to L:\\f02_data\\wildfires\\spatial_data\\input\\effis_rawdata_20240109\n"
     ]
    }
   ],
   "source": [
    "# Unzip\n",
    "\n",
    "# Specify the path to the downloaded ZIP file\n",
    "zip_file_path = input_folder / f\"effis_rawdata_{current_datetime}.zip\"\n",
    "\n",
    "# Specify the folder where you want to extract the contents\n",
    "extracted_folder = input_folder / f\"effis_rawdata_{current_datetime}\"\n",
    "\n",
    "# Create the folder if it doesn't exist\n",
    "extracted_folder.mkdir(parents=True, exist_ok=True)\n",
    "\n",
    "# Open the ZIP file and extract its contents\n",
    "with zipfile.ZipFile(zip_file_path, 'r') as zip_ref:\n",
    "    zip_ref.extractall(extracted_folder)\n",
    "\n",
    "# Print a message indicating success\n",
    "print(f\"ZIP file extracted to {extracted_folder}\")"
   ]
  },
  {
   "cell_type": "code",
   "execution_count": 27,
   "metadata": {},
   "outputs": [],
   "source": [
    "# Load the shapefile into a GeoDataFrame\n",
    "shapefile_path = os.path.join(extracted_folder, 'modis.ba.poly.shp') \n",
    "gdf = gpd.read_file(shapefile_path)\n",
    "\n",
    "# Convert the 'date_column' to pandas datetime object\n",
    "gdf['FIREDATE'] = pd.to_datetime(gdf['FIREDATE'])"
   ]
  }
 ],
 "metadata": {
  "kernelspec": {
   "display_name": "geospatial_ETC_DI_v4",
   "language": "python",
   "name": "python3"
  },
  "language_info": {
   "codemirror_mode": {
    "name": "ipython",
    "version": 3
   },
   "file_extension": ".py",
   "mimetype": "text/x-python",
   "name": "python",
   "nbconvert_exporter": "python",
   "pygments_lexer": "ipython3",
   "version": "3.9.15"
  },
  "orig_nbformat": 4
 },
 "nbformat": 4,
 "nbformat_minor": 2
}
