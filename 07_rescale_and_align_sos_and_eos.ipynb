{
 "cells": [
  {
   "cell_type": "code",
   "execution_count": 1,
   "metadata": {},
   "outputs": [],
   "source": [
    "from src.utils import *"
   ]
  },
  {
   "cell_type": "code",
   "execution_count": 2,
   "metadata": {},
   "outputs": [],
   "source": [
    "# Path to data folders\n",
    "project_f = r'L:\\f02_data\\wildfires\\spatial_data'\n",
    "\n",
    "# input raster paths\n",
    "# Create output folder structure\n",
    "outfolder =  os.path.join(project_f, 'output')\n",
    "os.makedirs(outfolder, exist_ok=True)\n",
    "\n",
    "outFIREID_folder =  os.path.join(project_f, 'output', 'FIRE_ID')\n",
    "os.makedirs(outFIREID_folder, exist_ok=True)\n",
    "\n",
    "outFIREYEARDOY_folder =  os.path.join(project_f, 'output', 'FIRE_YEARDOY')\n",
    "os.makedirs(outFIREYEARDOY_folder, exist_ok=True)"
   ]
  },
  {
   "cell_type": "markdown",
   "metadata": {},
   "source": [
    "1. Define reference raster to copy parameters"
   ]
  },
  {
   "cell_type": "code",
   "execution_count": 1,
   "metadata": {},
   "outputs": [],
   "source": [
    "# EEA Reference raster for aligning to\n",
    "target_raster_path = r'M:\\f01_dims\\ADMbndEEA39v2021\\f02_upload_to_jedi\\Adm_EEA38_NUTS2021v2022.tif'\n",
    "compression_type = 'zstd'"
   ]
  },
  {
   "cell_type": "markdown",
   "metadata": {},
   "source": [
    "2. Rescale and align sos"
   ]
  },
  {
   "cell_type": "code",
   "execution_count": null,
   "metadata": {},
   "outputs": [],
   "source": [
    "input_raster_path = r'A:\\Copernicus\\MR-VPP\\dsos'\n",
    "output_raster_path = r'L:\\f02_data\\wildfires\\spatial_data\\output\\dsos_100m'\n",
    "rescale_and_clip_to_target(input_raster_path, target_raster_path, output_raster_path, compression_type)"
   ]
  },
  {
   "cell_type": "markdown",
   "metadata": {},
   "source": [
    "3. Rescale and align eos"
   ]
  },
  {
   "cell_type": "code",
   "execution_count": null,
   "metadata": {},
   "outputs": [],
   "source": [
    "input_raster_path = r'A:\\Copernicus\\MR-VPP\\deos'\n",
    "output_raster_path = r'L:\\f02_data\\wildfires\\spatial_data\\output\\deos_100m'\n",
    "rescale_and_clip_to_target(input_raster_path, target_raster_path, output_raster_path, compression_type)"
   ]
  }
 ],
 "metadata": {
  "kernelspec": {
   "display_name": "geospatial_ETC_DI_v4",
   "language": "python",
   "name": "python3"
  },
  "language_info": {
   "codemirror_mode": {
    "name": "ipython",
    "version": 3
   },
   "file_extension": ".py",
   "mimetype": "text/x-python",
   "name": "python",
   "nbconvert_exporter": "python",
   "pygments_lexer": "ipython3",
   "version": "3.9.15"
  },
  "orig_nbformat": 4
 },
 "nbformat": 4,
 "nbformat_minor": 2
}
