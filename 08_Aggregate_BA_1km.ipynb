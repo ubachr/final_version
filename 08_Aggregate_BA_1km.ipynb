{
 "cells": [
  {
   "cell_type": "code",
   "execution_count": 2,
   "metadata": {},
   "outputs": [],
   "source": [
    "import arcpy\n",
    "import os"
   ]
  },
  {
   "cell_type": "code",
   "execution_count": 5,
   "metadata": {},
   "outputs": [],
   "source": [
    "def set_nodata_value(folder_path, nodata_value):\n",
    "    \"\"\"Set NoData value for all rasters in the specified folder.\"\"\"\n",
    "    arcpy.env.workspace = folder_path\n",
    "\n",
    "    # List all raster files in the folder\n",
    "    raster_list = arcpy.ListRasters()\n",
    "\n",
    "    for raster in raster_list:\n",
    "        raster_path = os.path.join(folder_path, raster)\n",
    "        \n",
    "        # Use the arcpy.management.SetRasterProperties function to set NoData value\n",
    "        try:\n",
    "            arcpy.management.SetRasterProperties(\n",
    "                raster_path,  # Corrected to be the first positional argument\n",
    "                nodata=\"1 {}\".format(nodata_value)  # Band 1 set to nodata_value\n",
    "            )\n",
    "            print(f'Successfully set NoData value for {raster}')\n",
    "        except Exception as e:\n",
    "            print(f'Error setting NoData value for {raster}: {e}')\n",
    "\n"
   ]
  },
  {
   "cell_type": "code",
   "execution_count": null,
   "metadata": {},
   "outputs": [],
   "source": [
    "def set_nodata_value(folder_path, nodata_value):\n",
    "    \"\"\"Set NoData value for all rasters in the specified folder.\"\"\"\n",
    "    arcpy.env.workspace = folder_path\n",
    "\n",
    "    # List all raster files in the folder\n",
    "    raster_list = arcpy.ListRasters()\n",
    "\n",
    "    for raster in raster_list:\n",
    "        raster_path = os.path.join(folder_path, raster)\n",
    "        \n",
    "        # Use the arcpy.management.SetRasterProperties function to set NoData value\n",
    "        try:\n",
    "            arcpy.management.SetRasterProperties(\n",
    "                raster_path,  \n",
    "                nodata=\"1 {}\".format(nodata_value)  # Band 1 set to nodata_value\n",
    "            )\n",
    "            print(f'Successfully set NoData value for {raster}')\n",
    "        except Exception as e:\n",
    "            print(f'Error setting NoData value for {raster}: {e}')"
   ]
  },
  {
   "cell_type": "code",
   "execution_count": 6,
   "metadata": {},
   "outputs": [
    {
     "name": "stdout",
     "output_type": "stream",
     "text": [
      "Successfully set NoData value for FIREID_2000.tif\n",
      "Successfully set NoData value for FIREID_2001.tif\n",
      "Successfully set NoData value for FIREID_2002.tif\n",
      "Successfully set NoData value for FIREID_2003.tif\n",
      "Successfully set NoData value for FIREID_2004.tif\n",
      "Successfully set NoData value for FIREID_2005.tif\n",
      "Successfully set NoData value for FIREID_2006.tif\n",
      "Successfully set NoData value for FIREID_2007.tif\n",
      "Successfully set NoData value for FIREID_2008.tif\n",
      "Successfully set NoData value for FIREID_2009.tif\n",
      "Successfully set NoData value for FIREID_2010.tif\n",
      "Successfully set NoData value for FIREID_2011.tif\n",
      "Successfully set NoData value for FIREID_2012.tif\n",
      "Successfully set NoData value for FIREID_2013.tif\n",
      "Successfully set NoData value for FIREID_2014.tif\n",
      "Successfully set NoData value for FIREID_2015.tif\n",
      "Successfully set NoData value for FIREID_2016.tif\n",
      "Successfully set NoData value for FIREID_2017.tif\n",
      "Successfully set NoData value for FIREID_2018.tif\n",
      "Successfully set NoData value for FIREID_2019.tif\n",
      "Successfully set NoData value for FIREID_2020.tif\n",
      "Successfully set NoData value for FIREID_2021.tif\n",
      "Successfully set NoData value for FIREID_2022.tif\n",
      "Successfully set NoData value for FIREID_2023.tif\n",
      "Successfully set NoData value for FIREID_2024.tif\n"
     ]
    }
   ],
   "source": [
    "# Define the folder path and NoData value\n",
    "folder_path = r'L:\\f02_data\\wildfires\\spatial_data\\output\\FIRE_ID'\n",
    "nodata_value = 0\n",
    "\n",
    "# Set NoData value for all rasters in the folder\n",
    "set_nodata_value(folder_path, nodata_value)"
   ]
  },
  {
   "cell_type": "code",
   "execution_count": 13,
   "metadata": {},
   "outputs": [
    {
     "name": "stdout",
     "output_type": "stream",
     "text": [
      "_2000.tif\n",
      "_2000.tif\n",
      "_2001.tif\n",
      "_2001.tif\n"
     ]
    }
   ],
   "source": [
    "arcpy.env.workspace = folder_path\n",
    "\n",
    "# List all raster files in the folder\n",
    "raster_list = arcpy.ListRasters()\n",
    "\n",
    "for raster in raster_list[:2]:\n",
    "    raster_path = os.path.join(folder_path, raster)\n",
    "    raster_name = os.path.basename(raster_path)\n",
    "    print(raster_name[-9:])\n",
    "    print(raster[-9:])\n",
    "        "
   ]
  },
  {
   "cell_type": "code",
   "execution_count": 16,
   "metadata": {},
   "outputs": [
    {
     "data": {
      "text/plain": [
       "'L:\\\\f02_data\\\\wildfires\\\\spatial_data\\\\output\\\\NrFires_1km\\\\NrFires_1km_2001.tif'"
      ]
     },
     "execution_count": 16,
     "metadata": {},
     "output_type": "execute_result"
    }
   ],
   "source": [
    "outputFolder = r'L:\\f02_data\\wildfires\\spatial_data\\output'\n",
    "outRaster_folder = os.path.join(outputFolder, 'NrFires_1km')\n",
    "out_raster_path = os.path.join(outRaster_folder, f'NrFires_1km{raster[-9:]}')\n",
    "out_raster_path"
   ]
  },
  {
   "cell_type": "code",
   "execution_count": 20,
   "metadata": {},
   "outputs": [
    {
     "name": "stdout",
     "output_type": "stream",
     "text": [
      "FIREID_2000.tif\n",
      "FIREID_2001.tif\n",
      "FIREID_2002.tif\n",
      "FIREID_2003.tif\n",
      "FIREID_2004.tif\n",
      "FIREID_2005.tif\n",
      "FIREID_2006.tif\n",
      "FIREID_2007.tif\n",
      "FIREID_2008.tif\n",
      "FIREID_2009.tif\n",
      "FIREID_2010.tif\n",
      "FIREID_2011.tif\n",
      "FIREID_2012.tif\n",
      "FIREID_2013.tif\n",
      "FIREID_2014.tif\n",
      "FIREID_2015.tif\n",
      "FIREID_2016.tif\n",
      "FIREID_2017.tif\n",
      "FIREID_2018.tif\n",
      "FIREID_2019.tif\n",
      "FIREID_2020.tif\n",
      "FIREID_2021.tif\n",
      "FIREID_2022.tif\n",
      "FIREID_2023.tif\n",
      "FIREID_2024.tif\n"
     ]
    }
   ],
   "source": [
    "arcpy.CheckOutExtension(\"Spatial\")\n",
    "# compute Nr of Fires in 1km using zonal statistics and 'variety' for the id code of fire\n",
    "zoneRaster = r'L:\\f02_data\\wildfires\\spatial_data\\input\\grid1KmLAND_v2.tif'\n",
    "outputFolder = r'L:\\f02_data\\wildfires\\spatial_data\\output'\n",
    "inputRaster_folder = os.path.join(outputFolder, 'FIRE_ID')\n",
    "outRaster_folder = os.path.join(outputFolder, 'NrFires_1km')\n",
    "os.makedirs(outRaster_folder, exist_ok=True)\n",
    "\n",
    "\n",
    "# List all raster files in the folder\n",
    "arcpy.env.workspace = inputRaster_folder\n",
    "raster_list = arcpy.ListRasters()\n",
    "\n",
    "for raster in raster_list:\n",
    "    out_raster_path = os.path.join(outRaster_folder, f'NrFires_1km{raster[-9:]}')\n",
    "    print(raster)\n",
    "    if not os.path.exists(out_raster_path):\n",
    "        with arcpy.EnvManager(snapRaster=zoneRaster, extent=raster, cellSize=raster, scratchWorkspace=r\"L:\\f02_data\\wildfires\\spatial_data\\devdata\"):\n",
    "            out_raster = arcpy.sa.ZonalStatistics(\n",
    "                in_zone_data=zoneRaster,\n",
    "                zone_field=\"Value\",\n",
    "                in_value_raster=raster,\n",
    "                statistics_type=\"VARIETY\",\n",
    "                ignore_nodata=\"DATA\",\n",
    "                process_as_multidimensional=\"CURRENT_SLICE\",\n",
    "                percentile_value=90,\n",
    "                percentile_interpolation_type=\"AUTO_DETECT\",\n",
    "                circular_calculation=\"ARITHMETIC\",\n",
    "                circular_wrap_value=360\n",
    "            )\n",
    "            \n",
    "            out_raster.save(out_raster_path)"
   ]
  },
  {
   "cell_type": "code",
   "execution_count": null,
   "metadata": {},
   "outputs": [],
   "source": [
    "\n",
    "\n",
    "rasters = arcpy.ListRasters(\"*\", \"TIF\")\n"
   ]
  }
 ],
 "metadata": {
  "kernelspec": {
   "display_name": "base",
   "language": "python",
   "name": "python3"
  },
  "language_info": {
   "codemirror_mode": {
    "name": "ipython",
    "version": 3
   },
   "file_extension": ".py",
   "mimetype": "text/x-python",
   "name": "python",
   "nbconvert_exporter": "python",
   "pygments_lexer": "ipython3",
   "version": "3.11.8"
  }
 },
 "nbformat": 4,
 "nbformat_minor": 2
}
