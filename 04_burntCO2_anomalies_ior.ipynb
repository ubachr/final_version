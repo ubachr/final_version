{
 "cells": [
  {
   "cell_type": "code",
   "execution_count": 1,
   "metadata": {},
   "outputs": [
    {
     "name": "stdout",
     "output_type": "stream",
     "text": [
      "2023-10-18 12:56:18.138984  loading data\n",
      "2023-10-18 12:56:20.731995  finished loading data - iteration {it}\n",
      "Iteration 0\n",
      "2023-10-18 12:56:26.918999  finished loading data - iteration {it}\n"
     ]
    },
    {
     "name": "stderr",
     "output_type": "stream",
     "text": [
      "c:\\Users\\ubach\\.conda\\envs\\geospatial_ETC_DI_v4\\lib\\site-packages\\numpy\\lib\\nanfunctions.py:1872: RuntimeWarning: Degrees of freedom <= 0 for slice.\n",
      "  var = nanvar(a, axis=axis, dtype=dtype, out=out, ddof=ddof,\n"
     ]
    },
    {
     "name": "stdout",
     "output_type": "stream",
     "text": [
      "Iteration 1\n",
      "2023-10-18 12:56:32.231033  finished loading data - iteration {it}\n"
     ]
    },
    {
     "name": "stderr",
     "output_type": "stream",
     "text": [
      "c:\\Users\\ubach\\.conda\\envs\\geospatial_ETC_DI_v4\\lib\\site-packages\\numpy\\lib\\nanfunctions.py:1872: RuntimeWarning: Degrees of freedom <= 0 for slice.\n",
      "  var = nanvar(a, axis=axis, dtype=dtype, out=out, ddof=ddof,\n"
     ]
    },
    {
     "name": "stdout",
     "output_type": "stream",
     "text": [
      "Iteration 2\n",
      "2023-10-18 12:56:37.316030  finished loading data - iteration {it}\n"
     ]
    },
    {
     "name": "stderr",
     "output_type": "stream",
     "text": [
      "c:\\Users\\ubach\\.conda\\envs\\geospatial_ETC_DI_v4\\lib\\site-packages\\numpy\\lib\\nanfunctions.py:1872: RuntimeWarning: Degrees of freedom <= 0 for slice.\n",
      "  var = nanvar(a, axis=axis, dtype=dtype, out=out, ddof=ddof,\n"
     ]
    },
    {
     "name": "stdout",
     "output_type": "stream",
     "text": [
      "Final Iteration 3\n"
     ]
    },
    {
     "data": {
      "text/plain": [
       "\"        # save to disk\\n        mean['burntCO2_mean'].rio.to_raster(os.path.join(out_path, f'burntCO2_{resolution}_mean.tif'), compress='LZW')\\n        std['burntCO2_std'].rio.to_raster(os.path.join(out_path, f'burntCO2_{resolution}_std.tif'), compress='LZW')\\n        count['ior_count'].rio.to_raster(os.path.join(out_path, f'burntCO2_{resolution}_count.tif'), compress='LZW')\\n\\n        for yr in range(base1, 2022+1):\\n            anom['burntCO2_anom'].sel(time=datetime(yr, 1, 1)).rio.to_raster(os.path.join(out_path,\\n                                                                                    f'burntCO2_{resolution}_anom_{yr}.tif'), compress='LZW')\\n            deviation['burntCO2_deviation'].sel(time=datetime(yr, 1, 1)).rio.to_raster(os.path.join(out_path,\\n                                                                                    f'burntCO2_{resolution}_deviation_{yr}.tif'), compress='LZW')\""
      ]
     },
     "execution_count": 1,
     "metadata": {},
     "output_type": "execute_result"
    }
   ],
   "source": [
    "import glob\n",
    "import os\n",
    "import sys\n",
    "from datetime import datetime\n",
    "from pathlib import Path, WindowsPath\n",
    "import pandas as pd\n",
    "import xarray as xr\n",
    "import numpy as np\n",
    "from pprint import pprint\n",
    "\n",
    "\n",
    "\n",
    "# set baseline\n",
    "base1 = 2003 #emission data is only available from 2003 onwards\n",
    "base2 = 2020\n",
    "\n",
    "# set data folder\n",
    "sys.path.append(Path(os.getcwd()).joinpath('src').as_posix())\n",
    "base_path = r\"S:\\Common workspace\\ETC_DI\\f01_TASK_DATA\\ETC_DI_2023\\WP3_data_intelligence\\AP23_3_2_2_Drought_and_fire_impact_on_Carbon_emissions_and_removals\\Wildfires_Annual_Update_00_22\"\n",
    "\n",
    "\n",
    "#################################################################\n",
    "#################################################################\n",
    "# select tiffs\n",
    "resolution = \"10km\" ### change this to point to the right folder\n",
    "in_path = os.path.join(base_path, 'burnt_CO2_0322_10km_0')\n",
    "\n",
    "out_path = os.path.join(base_path, f'burntCO2_{resolution}_anom_ior_vf_051023')\n",
    "if not os.path.exists(out_path):\n",
    "    os.mkdir(out_path)\n",
    "#################################################################\n",
    "#################################################################\n",
    "\n",
    "print(datetime.now(), \" loading data\")\n",
    "\n",
    "# load raster data into xarray\n",
    "tif_list = [os.path.basename(f) for f in glob.glob(in_path + '/co2fire*.tif')]\n",
    "\n",
    "# Create variable used for time axis\n",
    "time_var = xr.Variable('time', pd.to_datetime([f'{fname[7:11]}-01-01' for fname in tif_list]))\n",
    "\n",
    "# iterate for outlier removal \n",
    "for it in range(4):\n",
    "\n",
    "    # Load in and concatenate all individual GeoTIFFs\n",
    "    co2_ds= xr.concat([xr.open_dataset(os.path.join(in_path, i), engine='rasterio') for i in tif_list], dim=time_var)\n",
    "    # Rename the variable to a more useful name\n",
    "    co2_ds = co2_ds.rename({'band_data': 'burntCO2'})\n",
    "    now = datetime.now()\n",
    "    print(now, \" finished loading data - iteration {it}\")\n",
    "\n",
    "    # assign coordinates (layer names) to statistics dimension\n",
    "    # prepare DataArrays for saving to disk\n",
    "    co2_ds = co2_ds.squeeze(dim=\"band\")\n",
    "\n",
    "    # extract long term stats (mean and std) for the baseline period\n",
    "    baseline = co2_ds.sel(time=slice(datetime(base1,1,1), datetime(base2,1,1)))\n",
    "    mean = baseline.mean(dim='time')\n",
    "    std = baseline.std(dim='time', skipna=True, ddof=1)\n",
    "    \n",
    "\n",
    "    if it !=3:\n",
    "        print ('Iteration {}'.format(it))\n",
    "        \n",
    "        temp_folder = os.path.join(out_path, f'iteration_{it}')\n",
    "        if not os.path.exists(temp_folder):\n",
    "            os.mkdir(temp_folder)\n",
    "\n",
    "        # compute limits (upper and lower)\n",
    "        cond_low = mean - 2*std\n",
    "        cond_up = mean + 2*std  \n",
    "\n",
    "        # select values within the range\n",
    "        itr = co2_ds.where((co2_ds  > cond_low) & (co2_ds  < cond_up))\n",
    "        # set nan values to -999\n",
    "        itr = xr.where(np.isnan(itr), -999, itr) \n",
    "        itr['burntCO2'].rio.write_nodata(-999, inplace=True)\n",
    "        itr.rio.write_crs(\"epsg:3035\", inplace=True)\n",
    "\n",
    "        # rename layers \n",
    "        mean = mean.rename({\"burntCO2\": \"burntCO2_mean\"})\n",
    "        std = std.rename({\"burntCO2\": \"burntCO2_std\"})\n",
    "\n",
    "        # save to disk\n",
    "        mean['burntCO2_mean'].rio.to_raster(os.path.join(temp_folder, f'burntCO2_{resolution}_mean.tif'), compress='LZW')\n",
    "        std['burntCO2_std'].rio.to_raster(os.path.join(temp_folder,f'burntCO2_{resolution}_std.tif'), compress='LZW')\n",
    "        \n",
    "        for yr in range(base1, 2022+1):\n",
    "            itr['burntCO2'].sel(time=datetime(yr, 1, 1)).rio.to_raster(os.path.join(temp_folder,\n",
    "                               f'burntCO2_{resolution}_{yr}.tif'), compress='LZW')\n",
    "\n",
    "        tif_list = [os.path.basename(f) for f in glob.glob(os.path.join(temp_folder, '*.tif'))]\n",
    "        tif_list = tif_list[:-2]\n",
    "        in_path = temp_folder\n",
    "\n",
    "\n",
    "    else:\n",
    "        print ('Final Iteration {}'.format(it))\n",
    "\n",
    "        # compute z-score\n",
    "        deviation = co2_ds - mean\n",
    "        anom = deviation / std\n",
    "\n",
    "        # set nan values to -999\n",
    "        anom = xr.where(np.isnan(anom), -999, anom)\n",
    "        anom = xr.where(np.isfinite(anom), anom, -999) # to remove infinite values\n",
    "        anom['burntCO2'].rio.write_nodata(-999, inplace=True)\n",
    "        anom.rio.write_crs(\"epsg:3035\", inplace=True)\n",
    "\n",
    "        deviation = xr.where(np.isnan(deviation), -999, deviation) \n",
    "        deviation['burntCO2'].rio.write_nodata(-999, inplace=True)\n",
    "        deviation.rio.write_crs(\"epsg:3035\", inplace=True)\n",
    "\n",
    "        # count all values for final computation\n",
    "        count = co2_ds.count(\"time\")\n",
    "\n",
    "        # rename layers \n",
    "        mean = mean.rename({\"burntCO2\": \"burntCO2_mean\"})\n",
    "        std = std.rename({\"burntCO2\": \"burntCO2_std\"})\n",
    "        anom = anom.rename({\"burntCO2\": \"burntCO2_anom\"})\n",
    "        deviation = deviation.rename({\"burntCO2\": \"burntCO2_deviation\"})\n",
    "        count = count.rename({\"burntCO2\": \"ior_count\"})\n",
    "\n",
    "        # save to disk\n",
    "        mean['burntCO2_mean'].rio.to_raster(os.path.join(out_path, f'burntCO2_{resolution}_mean.tif'), compress='LZW')\n",
    "        std['burntCO2_std'].rio.to_raster(os.path.join(out_path, f'burntCO2_{resolution}_std.tif'), compress='LZW')\n",
    "        count['ior_count'].rio.to_raster(os.path.join(out_path, f'burntCO2_{resolution}_count.tif'), compress='LZW')\n",
    "\n",
    "        for yr in range(base1, 2022+1):\n",
    "            anom['burntCO2_anom'].sel(time=datetime(yr, 1, 1)).rio.to_raster(os.path.join(out_path,\n",
    "                                                                                    f'burntCO2_{resolution}_anom_{yr}.tif'), compress='LZW')\n",
    "            deviation['burntCO2_deviation'].sel(time=datetime(yr, 1, 1)).rio.to_raster(os.path.join(out_path,\n",
    "                                                                                    f'burntCO2_{resolution}_deviation_{yr}.tif'), compress='LZW')"
   ]
  }
 ],
 "metadata": {
  "kernelspec": {
   "display_name": "geospatial_ETC_DI_v4",
   "language": "python",
   "name": "python3"
  },
  "language_info": {
   "codemirror_mode": {
    "name": "ipython",
    "version": 3
   },
   "file_extension": ".py",
   "mimetype": "text/x-python",
   "name": "python",
   "nbconvert_exporter": "python",
   "pygments_lexer": "ipython3",
   "version": "3.9.15"
  },
  "orig_nbformat": 4
 },
 "nbformat": 4,
 "nbformat_minor": 2
}
